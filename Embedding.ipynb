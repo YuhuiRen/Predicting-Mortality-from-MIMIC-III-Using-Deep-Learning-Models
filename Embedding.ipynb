{
 "cells": [
  {
   "cell_type": "markdown",
   "metadata": {},
   "source": [
    "## 1. Data Preprocessing"
   ]
  },
  {
   "cell_type": "code",
   "execution_count": 1,
   "metadata": {},
   "outputs": [],
   "source": [
    "import numpy as np\n",
    "import pandas as pd"
   ]
  },
  {
   "cell_type": "markdown",
   "metadata": {},
   "source": [
    "### update  procedure index"
   ]
  },
  {
   "cell_type": "code",
   "execution_count": 2,
   "metadata": {},
   "outputs": [],
   "source": [
    "data = pd.read_csv('mimic_PROCEDURES_ICD.csv').drop(['ROW_ID'], axis=1)\n",
    "label = pd.read_csv('000_mortality label.csv').rename(columns={\"subject_ID\" : \"SUBJECT_ID\"})   \n",
    "index = np.load('index.npy')\n",
    "index = pd.DataFrame(index, columns=['SUBJECT_ID'])       #    2314     "
   ]
  },
  {
   "cell_type": "code",
   "execution_count": 7,
   "metadata": {},
   "outputs": [],
   "source": [
    "temp1 = pd.merge(index, data, how='left', on=['SUBJECT_ID'])"
   ]
  },
  {
   "cell_type": "code",
   "execution_count": 8,
   "metadata": {},
   "outputs": [],
   "source": [
    "index_new = temp1[temp1['HADM_ID'].notnull()]['SUBJECT_ID']\n",
    "index_new = sorted(list(set(index_new.values.tolist())))\n",
    "index_new_df = pd.DataFrame(index_new, columns=['SUBJECT_ID'])    # 2110"
   ]
  },
  {
   "cell_type": "code",
   "execution_count": 10,
   "metadata": {},
   "outputs": [],
   "source": [
    "np.save('index_Yuhui.npy', index_new_df)"
   ]
  },
  {
   "cell_type": "markdown",
   "metadata": {},
   "source": [
    "### under sampling"
   ]
  },
  {
   "cell_type": "code",
   "execution_count": 27,
   "metadata": {},
   "outputs": [],
   "source": [
    "index = np.load('index.npy')   "
   ]
  },
  {
   "cell_type": "code",
   "execution_count": 28,
   "metadata": {},
   "outputs": [],
   "source": [
    "index_df = pd.DataFrame(index, columns=['SUBJECT_ID'])"
   ]
  },
  {
   "cell_type": "code",
   "execution_count": 29,
   "metadata": {},
   "outputs": [
    {
     "data": {
      "text/plain": [
       "2078"
      ]
     },
     "execution_count": 29,
     "metadata": {},
     "output_type": "execute_result"
    }
   ],
   "source": [
    "temp = pd.merge(index_df, label, how='left', on=['SUBJECT_ID'])\n",
    "len(temp)"
   ]
  },
  {
   "cell_type": "code",
   "execution_count": 33,
   "metadata": {},
   "outputs": [
    {
     "name": "stdout",
     "output_type": "stream",
     "text": [
      "1068\n",
      "1010\n"
     ]
    }
   ],
   "source": [
    "print(len(temp[temp['mortality']==1]))   # died\n",
    "print(len(temp[temp['mortality']==0]))   # survived"
   ]
  },
  {
   "cell_type": "code",
   "execution_count": 37,
   "metadata": {},
   "outputs": [],
   "source": [
    "survived = temp[temp['mortality']==0]\n",
    "died = temp[temp['mortality']==1].sample(len(survived))"
   ]
  },
  {
   "cell_type": "code",
   "execution_count": 38,
   "metadata": {},
   "outputs": [],
   "source": [
    "mortality_updated = pd.concat([died, survived], ignore_index=True).sort_values(by='SUBJECT_ID')\n",
    "mortality_updated.to_csv (r'mortality label updated.csv', index = False, header=True)"
   ]
  },
  {
   "cell_type": "code",
   "execution_count": 49,
   "metadata": {},
   "outputs": [],
   "source": [
    "index_final = mortality_updated['SUBJECT_ID']\n",
    "np.save('index_final.npy', index_final)"
   ]
  },
  {
   "cell_type": "markdown",
   "metadata": {},
   "source": [
    "### preprocessing"
   ]
  },
  {
   "cell_type": "code",
   "execution_count": 2,
   "metadata": {},
   "outputs": [],
   "source": [
    "index = np.load('index_final.npy')\n",
    "index_df = pd.DataFrame(index, columns=['SUBJECT_ID'])  \n",
    "\n",
    "data = pd.read_csv('mimic_PROCEDURES_ICD.csv').drop(['ROW_ID'], axis=1)"
   ]
  },
  {
   "cell_type": "code",
   "execution_count": 4,
   "metadata": {},
   "outputs": [],
   "source": [
    "admit_time = pd.read_csv('ADMISSIONS.csv')[['HADM_ID','ADMITTIME']]\n",
    "\n",
    "temp = pd.merge(index_df, data, how='left', on=['SUBJECT_ID'])\n",
    "temp = pd.merge(temp, admit_time, how='left', on=['HADM_ID'])"
   ]
  },
  {
   "cell_type": "code",
   "execution_count": 5,
   "metadata": {},
   "outputs": [
    {
     "data": {
      "text/html": [
       "<div>\n",
       "<style scoped>\n",
       "    .dataframe tbody tr th:only-of-type {\n",
       "        vertical-align: middle;\n",
       "    }\n",
       "\n",
       "    .dataframe tbody tr th {\n",
       "        vertical-align: top;\n",
       "    }\n",
       "\n",
       "    .dataframe thead th {\n",
       "        text-align: right;\n",
       "    }\n",
       "</style>\n",
       "<table border=\"1\" class=\"dataframe\">\n",
       "  <thead>\n",
       "    <tr style=\"text-align: right;\">\n",
       "      <th></th>\n",
       "      <th>SUBJECT_ID</th>\n",
       "      <th>HADM_ID</th>\n",
       "      <th>SEQ_NUM</th>\n",
       "      <th>ICD9_CODE</th>\n",
       "      <th>ADMITTIME</th>\n",
       "    </tr>\n",
       "  </thead>\n",
       "  <tbody>\n",
       "    <tr>\n",
       "      <th>0</th>\n",
       "      <td>109</td>\n",
       "      <td>183350</td>\n",
       "      <td>1</td>\n",
       "      <td>5523</td>\n",
       "      <td>2137-11-04 19:36:00</td>\n",
       "    </tr>\n",
       "    <tr>\n",
       "      <th>1</th>\n",
       "      <td>109</td>\n",
       "      <td>183350</td>\n",
       "      <td>2</td>\n",
       "      <td>9971</td>\n",
       "      <td>2137-11-04 19:36:00</td>\n",
       "    </tr>\n",
       "    <tr>\n",
       "      <th>2</th>\n",
       "      <td>109</td>\n",
       "      <td>183350</td>\n",
       "      <td>3</td>\n",
       "      <td>3893</td>\n",
       "      <td>2137-11-04 19:36:00</td>\n",
       "    </tr>\n",
       "  </tbody>\n",
       "</table>\n",
       "</div>"
      ],
      "text/plain": [
       "   SUBJECT_ID  HADM_ID  SEQ_NUM  ICD9_CODE            ADMITTIME\n",
       "0         109   183350        1       5523  2137-11-04 19:36:00\n",
       "1         109   183350        2       9971  2137-11-04 19:36:00\n",
       "2         109   183350        3       3893  2137-11-04 19:36:00"
      ]
     },
     "execution_count": 5,
     "metadata": {},
     "output_type": "execute_result"
    }
   ],
   "source": [
    "df_dup = temp.sort_values(by=['SUBJECT_ID','ADMITTIME']).reset_index(drop=True)          ###### no drop duplicate ICD9\n",
    "df_dup.head(3)     # 16631"
   ]
  },
  {
   "cell_type": "code",
   "execution_count": 50,
   "metadata": {},
   "outputs": [
    {
     "data": {
      "text/html": [
       "<div>\n",
       "<style scoped>\n",
       "    .dataframe tbody tr th:only-of-type {\n",
       "        vertical-align: middle;\n",
       "    }\n",
       "\n",
       "    .dataframe tbody tr th {\n",
       "        vertical-align: top;\n",
       "    }\n",
       "\n",
       "    .dataframe thead th {\n",
       "        text-align: right;\n",
       "    }\n",
       "</style>\n",
       "<table border=\"1\" class=\"dataframe\">\n",
       "  <thead>\n",
       "    <tr style=\"text-align: right;\">\n",
       "      <th></th>\n",
       "      <th>SUBJECT_ID</th>\n",
       "      <th>HADM_ID</th>\n",
       "      <th>SEQ_NUM</th>\n",
       "      <th>ICD9_CODE</th>\n",
       "      <th>ADMITTIME</th>\n",
       "    </tr>\n",
       "  </thead>\n",
       "  <tbody>\n",
       "    <tr>\n",
       "      <th>16626</th>\n",
       "      <td>99999</td>\n",
       "      <td>113369</td>\n",
       "      <td>1</td>\n",
       "      <td>8108</td>\n",
       "      <td>2117-12-30 07:15:00</td>\n",
       "    </tr>\n",
       "    <tr>\n",
       "      <th>16627</th>\n",
       "      <td>99999</td>\n",
       "      <td>113369</td>\n",
       "      <td>2</td>\n",
       "      <td>8051</td>\n",
       "      <td>2117-12-30 07:15:00</td>\n",
       "    </tr>\n",
       "    <tr>\n",
       "      <th>16628</th>\n",
       "      <td>99999</td>\n",
       "      <td>113369</td>\n",
       "      <td>3</td>\n",
       "      <td>8162</td>\n",
       "      <td>2117-12-30 07:15:00</td>\n",
       "    </tr>\n",
       "    <tr>\n",
       "      <th>16629</th>\n",
       "      <td>99999</td>\n",
       "      <td>113369</td>\n",
       "      <td>4</td>\n",
       "      <td>9979</td>\n",
       "      <td>2117-12-30 07:15:00</td>\n",
       "    </tr>\n",
       "    <tr>\n",
       "      <th>16630</th>\n",
       "      <td>99999</td>\n",
       "      <td>113369</td>\n",
       "      <td>5</td>\n",
       "      <td>8451</td>\n",
       "      <td>2117-12-30 07:15:00</td>\n",
       "    </tr>\n",
       "  </tbody>\n",
       "</table>\n",
       "</div>"
      ],
      "text/plain": [
       "       SUBJECT_ID  HADM_ID  SEQ_NUM  ICD9_CODE            ADMITTIME\n",
       "16626       99999   113369        1       8108  2117-12-30 07:15:00\n",
       "16627       99999   113369        2       8051  2117-12-30 07:15:00\n",
       "16628       99999   113369        3       8162  2117-12-30 07:15:00\n",
       "16629       99999   113369        4       9979  2117-12-30 07:15:00\n",
       "16630       99999   113369        5       8451  2117-12-30 07:15:00"
      ]
     },
     "execution_count": 50,
     "metadata": {},
     "output_type": "execute_result"
    }
   ],
   "source": [
    "df = df_dup.drop_duplicates(['HADM_ID', 'ICD9_CODE'])     ###### drop duplicate ICD9  from each single admission\n",
    "df.tail()    # 15283"
   ]
  },
  {
   "cell_type": "markdown",
   "metadata": {},
   "source": [
    "## 2. Embedding"
   ]
  },
  {
   "cell_type": "markdown",
   "metadata": {},
   "source": [
    "#### 1. ICD9 duplicates dropped"
   ]
  },
  {
   "cell_type": "code",
   "execution_count": 128,
   "metadata": {},
   "outputs": [],
   "source": [
    "patients = index_df['SUBJECT_ID'].values.tolist()    # patients ID list"
   ]
  },
  {
   "cell_type": "code",
   "execution_count": 129,
   "metadata": {},
   "outputs": [],
   "source": [
    "codes_patients = []          # list of lists, each sub-list containing procedure codes for each patient\n",
    "for patient in patients:\n",
    "    codes_patient_df = df[df['SUBJECT_ID']==patient]['ICD9_CODE']\n",
    "    codes_patient = []\n",
    "    for code in codes_patient_df:\n",
    "        codes_patient.append(str(code))\n",
    "    codes_patients.append(codes_patient)"
   ]
  },
  {
   "cell_type": "code",
   "execution_count": 45,
   "metadata": {},
   "outputs": [],
   "source": [
    "from gensim.models import Word2Vec\n",
    "import warnings\n",
    "warnings.filterwarnings('ignore')"
   ]
  },
  {
   "cell_type": "code",
   "execution_count": 130,
   "metadata": {},
   "outputs": [],
   "source": [
    "# skip-gram model\n",
    "\n",
    "model = Word2Vec(sentences=codes_patients, vector_size=128, sg=1, min_count=1, workers=4, epochs=20, window=1)  "
   ]
  },
  {
   "cell_type": "code",
   "execution_count": 131,
   "metadata": {},
   "outputs": [],
   "source": [
    "max_num_procedure = max([len(i) for i in codes_patients])          # 85 words\n",
    "max_num_procedure   \n",
    "\n",
    "## each patient is one sentence\n",
    "## each procedure is one word\n",
    "## padding all patients/sentences to have 85(i.e. max_num_procedure) procedures/words\n",
    "\n",
    "padding = np.random.uniform(size=128).tolist()   # uniform random array for padding"
   ]
  },
  {
   "cell_type": "code",
   "execution_count": 132,
   "metadata": {},
   "outputs": [],
   "source": [
    "embedding_patients = []   # embedding for 2020 patients/sentences\n",
    "\n",
    "\n",
    "for patient in patients:\n",
    "    embedding_patient = []    # embedding for each patient/sentence\n",
    "    for codes_patient in codes_patients[patients.index(patient)]:\n",
    "        embedding_patient.append(model.wv[codes_patient])\n",
    "    while len(embedding_patient) < max_num_procedure: \n",
    "        embedding_patient.append(padding)  \n",
    "    embedding_patients.append(embedding_patient)"
   ]
  },
  {
   "cell_type": "code",
   "execution_count": 133,
   "metadata": {},
   "outputs": [
    {
     "data": {
      "text/plain": [
       "(2020, 85, 128)"
      ]
     },
     "execution_count": 133,
     "metadata": {},
     "output_type": "execute_result"
    }
   ],
   "source": [
    "embedding_patients_arr = np.array(embedding_patients)\n",
    "embedding_patients_arr.shape"
   ]
  },
  {
   "cell_type": "code",
   "execution_count": 134,
   "metadata": {},
   "outputs": [
    {
     "data": {
      "text/plain": [
       "(2020, 128, 85)"
      ]
     },
     "execution_count": 134,
     "metadata": {},
     "output_type": "execute_result"
    }
   ],
   "source": [
    "embedding_patients_arr_swapped = embedding_patients_arr.swapaxes(1,2)   # swap axis\n",
    "embedding_patients_arr_swapped.shape"
   ]
  },
  {
   "cell_type": "code",
   "execution_count": 118,
   "metadata": {},
   "outputs": [],
   "source": [
    "np.save('embedding matrix.npy', embedding_patients_arr_swapped)   ################  embedding matrix"
   ]
  },
  {
   "cell_type": "markdown",
   "metadata": {},
   "source": [
    "#### 2. ICD9 duplicates not dropped"
   ]
  },
  {
   "cell_type": "code",
   "execution_count": 135,
   "metadata": {},
   "outputs": [],
   "source": [
    "codes_patients = []          # list of lists, each sub-list contains procedure codes for each patient\n",
    "for patient in patients:\n",
    "    codes_patient_df = df_dup[df_dup['SUBJECT_ID']==patient]['ICD9_CODE']\n",
    "    codes_patient = []\n",
    "    for code in codes_patient_df:\n",
    "        codes_patient.append(str(code))\n",
    "    codes_patients.append(codes_patient)"
   ]
  },
  {
   "cell_type": "code",
   "execution_count": 136,
   "metadata": {},
   "outputs": [],
   "source": [
    "# skip-gram model\n",
    "\n",
    "model = Word2Vec(sentences=codes_patients, vector_size=128, sg=1, min_count=1, workers=4, epochs=20, window=1) "
   ]
  },
  {
   "cell_type": "code",
   "execution_count": 137,
   "metadata": {},
   "outputs": [],
   "source": [
    "max_num_procedure = max([len(i) for i in codes_patients])          # 98 words\n",
    "max_num_procedure   \n",
    "\n",
    "## each patient is one sentence\n",
    "## each procedure is one word\n",
    "## padding all patients/sentences to have 85(i.e. max_num_procedure) procedures/words\n",
    "\n",
    "padding = np.random.uniform(size=128).tolist()   # uniform random array for padding"
   ]
  },
  {
   "cell_type": "code",
   "execution_count": 138,
   "metadata": {},
   "outputs": [],
   "source": [
    "embedding_patients = []   # embedding for 2020 patients/sentences\n",
    "\n",
    "\n",
    "for patient in patients:\n",
    "    embedding_patient = []    # embedding for each patient/sentence\n",
    "    for codes_patient in codes_patients[patients.index(patient)]:\n",
    "        embedding_patient.append(model.wv[codes_patient])\n",
    "    while len(embedding_patient) < max_num_procedure: \n",
    "        embedding_patient.append(padding)  \n",
    "    embedding_patients.append(embedding_patient)"
   ]
  },
  {
   "cell_type": "code",
   "execution_count": 139,
   "metadata": {},
   "outputs": [
    {
     "data": {
      "text/plain": [
       "(2020, 98, 128)"
      ]
     },
     "execution_count": 139,
     "metadata": {},
     "output_type": "execute_result"
    }
   ],
   "source": [
    "embedding_patients_arr = np.array(embedding_patients)\n",
    "embedding_patients_arr.shape"
   ]
  },
  {
   "cell_type": "code",
   "execution_count": 140,
   "metadata": {},
   "outputs": [
    {
     "data": {
      "text/plain": [
       "(2020, 128, 98)"
      ]
     },
     "execution_count": 140,
     "metadata": {},
     "output_type": "execute_result"
    }
   ],
   "source": [
    "embedding_patients_arr_swapped = embedding_patients_arr.swapaxes(1,2)   # swap axis\n",
    "embedding_patients_arr_swapped.shape"
   ]
  },
  {
   "cell_type": "code",
   "execution_count": 141,
   "metadata": {},
   "outputs": [],
   "source": [
    "np.save('embedding matrix_dup.npy', embedding_patients_arr_swapped)   ################  embedding matrix"
   ]
  }
 ],
 "metadata": {
  "kernelspec": {
   "display_name": "Python 3",
   "language": "python",
   "name": "python3"
  },
  "language_info": {
   "codemirror_mode": {
    "name": "ipython",
    "version": 3
   },
   "file_extension": ".py",
   "mimetype": "text/x-python",
   "name": "python",
   "nbconvert_exporter": "python",
   "pygments_lexer": "ipython3",
   "version": "3.8.5"
  }
 },
 "nbformat": 4,
 "nbformat_minor": 4
}
