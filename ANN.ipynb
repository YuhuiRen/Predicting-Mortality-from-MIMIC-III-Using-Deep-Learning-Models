{
 "cells": [
  {
   "cell_type": "markdown",
   "metadata": {},
   "source": [
    "## Baseline Model -- ANN"
   ]
  },
  {
   "cell_type": "markdown",
   "metadata": {},
   "source": [
    "### 1. Data"
   ]
  },
  {
   "cell_type": "code",
   "execution_count": 1,
   "metadata": {},
   "outputs": [],
   "source": [
    "import numpy as np\n",
    "import pandas as pd\n",
    "\n",
    "from IPython.core.interactiveshell import InteractiveShell\n",
    "InteractiveShell.ast_node_interactivity = \"all\""
   ]
  },
  {
   "cell_type": "code",
   "execution_count": 2,
   "metadata": {},
   "outputs": [
    {
     "name": "stdout",
     "output_type": "stream",
     "text": [
      "(2020, 32) (2020, 44) (2020, 3) (2020, 2) (2020, 1) (2020, 1)\n"
     ]
    }
   ],
   "source": [
    "chart_event = np.load('MV_ChartEvent_feature.npy')\n",
    "lab_event = np.load('MV_LabEvent_feature.npy')\n",
    "\n",
    "admission_type = np.load('admission type.npy')[:,1:]\n",
    "gender = np.load('gender.npy')[:,1:]   \n",
    "ICU_times = np.load('ICU times.npy')[:,1:]\n",
    "LOS = np.load('LOS.npy')[:,1:]   \n",
    "\n",
    "print(chart_event.shape, lab_event.shape, \\\n",
    "      admission_type.shape, gender.shape, ICU_times.shape, LOS.shape)"
   ]
  },
  {
   "cell_type": "code",
   "execution_count": 3,
   "metadata": {},
   "outputs": [
    {
     "data": {
      "text/plain": [
       "(2020, 83)"
      ]
     },
     "execution_count": 3,
     "metadata": {},
     "output_type": "execute_result"
    }
   ],
   "source": [
    "X = np.concatenate((chart_event, lab_event, admission_type, gender, ICU_times, LOS), axis=1) \n",
    "X.shape"
   ]
  },
  {
   "cell_type": "code",
   "execution_count": 4,
   "metadata": {},
   "outputs": [
    {
     "data": {
      "text/plain": [
       "(2020, 1)"
      ]
     },
     "execution_count": 4,
     "metadata": {},
     "output_type": "execute_result"
    }
   ],
   "source": [
    "y = np.load('mortality labels.npy')[:,1].reshape(2020,1)\n",
    "y.shape"
   ]
  },
  {
   "cell_type": "code",
   "execution_count": 5,
   "metadata": {},
   "outputs": [
    {
     "name": "stdout",
     "output_type": "stream",
     "text": [
      "training data:  (1212, 83) (1212, 1)\n",
      "validation data:  (404, 83) (404, 1)\n",
      "testing data:  (404, 83) (404, 1)\n"
     ]
    }
   ],
   "source": [
    "from sklearn.model_selection import train_test_split\n",
    "\n",
    "# 60% train, 20% validation, 20% test\n",
    "X_train, X_temp, y_train, y_temp = train_test_split(X, y, test_size=0.4, shuffle=True)\n",
    "X_val, X_test, y_val, y_test = train_test_split(X_temp, y_temp, test_size=0.5, shuffle=True)\n",
    "\n",
    "print('training data: ', X_train.shape, y_train.shape)\n",
    "print('validation data: ', X_val.shape, y_val.shape)\n",
    "print('testing data: ', X_test.shape, y_test.shape)"
   ]
  },
  {
   "cell_type": "markdown",
   "metadata": {},
   "source": [
    "### 2. Model"
   ]
  },
  {
   "cell_type": "markdown",
   "metadata": {},
   "source": [
    "### 2.1 without regularization"
   ]
  },
  {
   "cell_type": "code",
   "execution_count": 11,
   "metadata": {},
   "outputs": [
    {
     "name": "stdout",
     "output_type": "stream",
     "text": [
      "Model: \"sequential_3\"\n",
      "_________________________________________________________________\n",
      "Layer (type)                 Output Shape              Param #   \n",
      "=================================================================\n",
      "dense_11 (Dense)             (None, 128)               10752     \n",
      "_________________________________________________________________\n",
      "dense_12 (Dense)             (None, 64)                8256      \n",
      "_________________________________________________________________\n",
      "dense_13 (Dense)             (None, 64)                4160      \n",
      "_________________________________________________________________\n",
      "dense_14 (Dense)             (None, 32)                2080      \n",
      "_________________________________________________________________\n",
      "dense_15 (Dense)             (None, 1)                 33        \n",
      "=================================================================\n",
      "Total params: 25,281\n",
      "Trainable params: 25,281\n",
      "Non-trainable params: 0\n",
      "_________________________________________________________________\n"
     ]
    }
   ],
   "source": [
    "from keras import models\n",
    "from keras import layers\n",
    "\n",
    "network = models.Sequential()\n",
    "\n",
    "network.add(layers.Dense(128, activation='relu', input_shape=(83,)))  \n",
    "network.add(layers.Dense(64, activation='relu'))\n",
    "network.add(layers.Dense(64, activation='relu'))\n",
    "network.add(layers.Dense(32, activation='relu'))\n",
    "network.add(layers.Dense(1, activation='sigmoid'))   \n",
    "\n",
    "network.summary() "
   ]
  },
  {
   "cell_type": "code",
   "execution_count": 7,
   "metadata": {},
   "outputs": [],
   "source": [
    "def fit_model(model, x_train, y_train, x_val, y_val, x_test, y_test):\n",
    "    \n",
    "    model.compile(optimizer='adam', loss='binary_crossentropy', metrics=['accuracy'])\n",
    "    \n",
    "    history = model.fit(X_train, y_train, epochs=50, verbose=1, batch_size=64, validation_data=(X_val, y_val))\n",
    "    test_loss, test_acc = model.evaluate(X_test, y_test)\n",
    "    print(\"Test loss: %.3f, accuracy %.3f\"%(test_loss, test_acc))\n",
    "    return history"
   ]
  },
  {
   "cell_type": "code",
   "execution_count": 12,
   "metadata": {},
   "outputs": [
    {
     "name": "stdout",
     "output_type": "stream",
     "text": [
      "Train on 1212 samples, validate on 404 samples\n",
      "Epoch 1/50\n",
      "1212/1212 [==============================] - 0s 166us/step - loss: 497.5317 - accuracy: 0.5297 - val_loss: 15.3576 - val_accuracy: 0.5446\n",
      "Epoch 2/50\n",
      "1212/1212 [==============================] - 0s 30us/step - loss: 304.3356 - accuracy: 0.5767 - val_loss: 16.4389 - val_accuracy: 0.6287\n",
      "Epoch 3/50\n",
      "1212/1212 [==============================] - 0s 35us/step - loss: 818.8851 - accuracy: 0.5553 - val_loss: 17.3231 - val_accuracy: 0.5198\n",
      "Epoch 4/50\n",
      "1212/1212 [==============================] - 0s 31us/step - loss: 288.0005 - accuracy: 0.5809 - val_loss: 37.7157 - val_accuracy: 0.5594\n",
      "Epoch 5/50\n",
      "1212/1212 [==============================] - 0s 30us/step - loss: 823.2817 - accuracy: 0.5586 - val_loss: 15.3804 - val_accuracy: 0.5272\n",
      "Epoch 6/50\n",
      "1212/1212 [==============================] - 0s 26us/step - loss: 1334.8154 - accuracy: 0.5446 - val_loss: 37.8181 - val_accuracy: 0.5718\n",
      "Epoch 7/50\n",
      "1212/1212 [==============================] - 0s 23us/step - loss: 624.4395 - accuracy: 0.5866 - val_loss: 19.7572 - val_accuracy: 0.5421\n",
      "Epoch 8/50\n",
      "1212/1212 [==============================] - 0s 23us/step - loss: 90.6523 - accuracy: 0.5998 - val_loss: 5.4303 - val_accuracy: 0.6584\n",
      "Epoch 9/50\n",
      "1212/1212 [==============================] - 0s 24us/step - loss: 576.2514 - accuracy: 0.6023 - val_loss: 21.4654 - val_accuracy: 0.5149\n",
      "Epoch 10/50\n",
      "1212/1212 [==============================] - 0s 23us/step - loss: 692.8218 - accuracy: 0.5437 - val_loss: 11.2332 - val_accuracy: 0.5941\n",
      "Epoch 11/50\n",
      "1212/1212 [==============================] - 0s 22us/step - loss: 62.8262 - accuracy: 0.5974 - val_loss: 6.1922 - val_accuracy: 0.5545\n",
      "Epoch 12/50\n",
      "1212/1212 [==============================] - 0s 26us/step - loss: 398.9729 - accuracy: 0.5982 - val_loss: 11.5443 - val_accuracy: 0.5272\n",
      "Epoch 13/50\n",
      "1212/1212 [==============================] - 0s 26us/step - loss: 30.1219 - accuracy: 0.6089 - val_loss: 5.1987 - val_accuracy: 0.6163\n",
      "Epoch 14/50\n",
      "1212/1212 [==============================] - 0s 29us/step - loss: 335.0375 - accuracy: 0.6403 - val_loss: 19.9818 - val_accuracy: 0.5916\n",
      "Epoch 15/50\n",
      "1212/1212 [==============================] - 0s 25us/step - loss: 600.1374 - accuracy: 0.6229 - val_loss: 11.4538 - val_accuracy: 0.6114\n",
      "Epoch 16/50\n",
      "1212/1212 [==============================] - 0s 22us/step - loss: 416.1216 - accuracy: 0.6518 - val_loss: 10.9194 - val_accuracy: 0.5743\n",
      "Epoch 17/50\n",
      "1212/1212 [==============================] - 0s 25us/step - loss: 330.3536 - accuracy: 0.6419 - val_loss: 4.2907 - val_accuracy: 0.6411\n",
      "Epoch 18/50\n",
      "1212/1212 [==============================] - 0s 26us/step - loss: 56.1860 - accuracy: 0.6427 - val_loss: 18.5333 - val_accuracy: 0.5743\n",
      "Epoch 19/50\n",
      "1212/1212 [==============================] - 0s 25us/step - loss: 492.5339 - accuracy: 0.6064 - val_loss: 8.9920 - val_accuracy: 0.5941\n",
      "Epoch 20/50\n",
      "1212/1212 [==============================] - 0s 27us/step - loss: 165.2344 - accuracy: 0.6452 - val_loss: 16.3361 - val_accuracy: 0.5743\n",
      "Epoch 21/50\n",
      "1212/1212 [==============================] - 0s 26us/step - loss: 361.5394 - accuracy: 0.5957 - val_loss: 8.5778 - val_accuracy: 0.5619\n",
      "Epoch 22/50\n",
      "1212/1212 [==============================] - 0s 24us/step - loss: 197.0010 - accuracy: 0.6304 - val_loss: 5.2840 - val_accuracy: 0.5446\n",
      "Epoch 23/50\n",
      "1212/1212 [==============================] - 0s 26us/step - loss: 70.0326 - accuracy: 0.6328 - val_loss: 7.3643 - val_accuracy: 0.6287\n",
      "Epoch 24/50\n",
      "1212/1212 [==============================] - 0s 24us/step - loss: 173.4554 - accuracy: 0.6757 - val_loss: 3.1673 - val_accuracy: 0.6139\n",
      "Epoch 25/50\n",
      "1212/1212 [==============================] - 0s 26us/step - loss: 85.1630 - accuracy: 0.6667 - val_loss: 2.7400 - val_accuracy: 0.6658\n",
      "Epoch 26/50\n",
      "1212/1212 [==============================] - 0s 24us/step - loss: 34.9939 - accuracy: 0.6832 - val_loss: 5.7919 - val_accuracy: 0.6040\n",
      "Epoch 27/50\n",
      "1212/1212 [==============================] - 0s 26us/step - loss: 134.5477 - accuracy: 0.6708 - val_loss: 6.7039 - val_accuracy: 0.6238\n",
      "Epoch 28/50\n",
      "1212/1212 [==============================] - 0s 25us/step - loss: 74.1299 - accuracy: 0.7087 - val_loss: 1.8840 - val_accuracy: 0.6683\n",
      "Epoch 29/50\n",
      "1212/1212 [==============================] - 0s 26us/step - loss: 29.2716 - accuracy: 0.6757 - val_loss: 6.7888 - val_accuracy: 0.6287\n",
      "Epoch 30/50\n",
      "1212/1212 [==============================] - 0s 26us/step - loss: 189.0854 - accuracy: 0.6394 - val_loss: 9.3319 - val_accuracy: 0.6114\n",
      "Epoch 31/50\n",
      "1212/1212 [==============================] - 0s 27us/step - loss: 216.0415 - accuracy: 0.6139 - val_loss: 2.8283 - val_accuracy: 0.6238\n",
      "Epoch 32/50\n",
      "1212/1212 [==============================] - 0s 26us/step - loss: 14.2072 - accuracy: 0.6609 - val_loss: 3.1305 - val_accuracy: 0.6460\n",
      "Epoch 33/50\n",
      "1212/1212 [==============================] - 0s 25us/step - loss: 20.0927 - accuracy: 0.6774 - val_loss: 2.9513 - val_accuracy: 0.6411\n",
      "Epoch 34/50\n",
      "1212/1212 [==============================] - 0s 26us/step - loss: 38.3908 - accuracy: 0.6568 - val_loss: 3.9905 - val_accuracy: 0.5866\n",
      "Epoch 35/50\n",
      "1212/1212 [==============================] - 0s 25us/step - loss: 54.0406 - accuracy: 0.6881 - val_loss: 2.7108 - val_accuracy: 0.5866\n",
      "Epoch 36/50\n",
      "1212/1212 [==============================] - 0s 26us/step - loss: 72.8341 - accuracy: 0.6848 - val_loss: 2.1333 - val_accuracy: 0.6436\n",
      "Epoch 37/50\n",
      "1212/1212 [==============================] - 0s 26us/step - loss: 25.3037 - accuracy: 0.6782 - val_loss: 2.2263 - val_accuracy: 0.6163\n",
      "Epoch 38/50\n",
      "1212/1212 [==============================] - 0s 27us/step - loss: 8.2332 - accuracy: 0.7005 - val_loss: 2.2509 - val_accuracy: 0.6312\n",
      "Epoch 39/50\n",
      "1212/1212 [==============================] - 0s 24us/step - loss: 10.6988 - accuracy: 0.6782 - val_loss: 4.1499 - val_accuracy: 0.6361\n",
      "Epoch 40/50\n",
      "1212/1212 [==============================] - 0s 23us/step - loss: 62.8482 - accuracy: 0.7252 - val_loss: 3.0086 - val_accuracy: 0.6460\n",
      "Epoch 41/50\n",
      "1212/1212 [==============================] - 0s 21us/step - loss: 18.6514 - accuracy: 0.7153 - val_loss: 1.3933 - val_accuracy: 0.6931\n",
      "Epoch 42/50\n",
      "1212/1212 [==============================] - 0s 24us/step - loss: 7.3613 - accuracy: 0.7500 - val_loss: 2.2997 - val_accuracy: 0.6163\n",
      "Epoch 43/50\n",
      "1212/1212 [==============================] - 0s 25us/step - loss: 20.5827 - accuracy: 0.7269 - val_loss: 2.6364 - val_accuracy: 0.6708\n",
      "Epoch 44/50\n",
      "1212/1212 [==============================] - 0s 24us/step - loss: 17.0263 - accuracy: 0.7657 - val_loss: 1.9401 - val_accuracy: 0.5891\n",
      "Epoch 45/50\n",
      "1212/1212 [==============================] - 0s 26us/step - loss: 12.1561 - accuracy: 0.7327 - val_loss: 4.5796 - val_accuracy: 0.6510\n",
      "Epoch 46/50\n",
      "1212/1212 [==============================] - 0s 21us/step - loss: 48.3846 - accuracy: 0.7087 - val_loss: 1.6176 - val_accuracy: 0.6782\n",
      "Epoch 47/50\n",
      "1212/1212 [==============================] - 0s 24us/step - loss: 75.5616 - accuracy: 0.6972 - val_loss: 5.0385 - val_accuracy: 0.5792\n",
      "Epoch 48/50\n",
      "1212/1212 [==============================] - 0s 26us/step - loss: 122.1330 - accuracy: 0.6353 - val_loss: 3.6069 - val_accuracy: 0.6411\n",
      "Epoch 49/50\n",
      "1212/1212 [==============================] - 0s 25us/step - loss: 50.5821 - accuracy: 0.6782 - val_loss: 5.0125 - val_accuracy: 0.6287\n",
      "Epoch 50/50\n",
      "1212/1212 [==============================] - 0s 26us/step - loss: 78.8079 - accuracy: 0.6898 - val_loss: 1.9067 - val_accuracy: 0.6757\n",
      "404/404 [==============================] - 0s 15us/step\n",
      "Test loss: 2.055, accuracy 0.668\n"
     ]
    }
   ],
   "source": [
    "history = fit_model(model = network, x_train = X_train, y_train =y_train, x_val = X_val, y_val = y_val, \\\n",
    "                    x_test = X_test, y_test = y_test)"
   ]
  },
  {
   "cell_type": "markdown",
   "metadata": {},
   "source": [
    "### 2.2 with regularization"
   ]
  },
  {
   "cell_type": "code",
   "execution_count": 13,
   "metadata": {},
   "outputs": [
    {
     "name": "stdout",
     "output_type": "stream",
     "text": [
      "Model: \"sequential_4\"\n",
      "_________________________________________________________________\n",
      "Layer (type)                 Output Shape              Param #   \n",
      "=================================================================\n",
      "dense_16 (Dense)             (None, 128)               10752     \n",
      "_________________________________________________________________\n",
      "dense_17 (Dense)             (None, 64)                8256      \n",
      "_________________________________________________________________\n",
      "dense_18 (Dense)             (None, 64)                4160      \n",
      "_________________________________________________________________\n",
      "dense_19 (Dense)             (None, 32)                2080      \n",
      "_________________________________________________________________\n",
      "dense_20 (Dense)             (None, 1)                 33        \n",
      "=================================================================\n",
      "Total params: 25,281\n",
      "Trainable params: 25,281\n",
      "Non-trainable params: 0\n",
      "_________________________________________________________________\n"
     ]
    }
   ],
   "source": [
    "from keras import regularizers\n",
    "\n",
    "network1 = models.Sequential()\n",
    "\n",
    "network1.add(layers.Dense(128, kernel_regularizer=regularizers.l2(0.01), activation='relu', input_shape=(83,)))      \n",
    "network1.add(layers.Dense(64, kernel_regularizer=regularizers.l2(0.01), activation='relu'))\n",
    "network1.add(layers.Dense(64, kernel_regularizer=regularizers.l2(0.01), activation='relu'))\n",
    "network1.add(layers.Dense(32, kernel_regularizer=regularizers.l2(0.01), activation='relu'))\n",
    "network1.add(layers.Dense(1, activation='sigmoid'))  \n",
    "\n",
    "network1.summary() "
   ]
  },
  {
   "cell_type": "code",
   "execution_count": 14,
   "metadata": {},
   "outputs": [
    {
     "name": "stdout",
     "output_type": "stream",
     "text": [
      "Train on 1212 samples, validate on 404 samples\n",
      "Epoch 1/50\n",
      "1212/1212 [==============================] - 0s 186us/step - loss: 911.2858 - accuracy: 0.5528 - val_loss: 46.1938 - val_accuracy: 0.5347\n",
      "Epoch 2/50\n",
      "1212/1212 [==============================] - 0s 27us/step - loss: 655.1089 - accuracy: 0.5776 - val_loss: 34.5774 - val_accuracy: 0.5124\n",
      "Epoch 3/50\n",
      "1212/1212 [==============================] - 0s 26us/step - loss: 302.6304 - accuracy: 0.5842 - val_loss: 11.5351 - val_accuracy: 0.6460\n",
      "Epoch 4/50\n",
      "1212/1212 [==============================] - 0s 25us/step - loss: 170.8033 - accuracy: 0.6477 - val_loss: 23.8924 - val_accuracy: 0.5099\n",
      "Epoch 5/50\n",
      "1212/1212 [==============================] - 0s 24us/step - loss: 449.3083 - accuracy: 0.5866 - val_loss: 28.4453 - val_accuracy: 0.6238\n",
      "Epoch 6/50\n",
      "1212/1212 [==============================] - 0s 26us/step - loss: 555.3067 - accuracy: 0.6139 - val_loss: 42.4317 - val_accuracy: 0.5198\n",
      "Epoch 7/50\n",
      "1212/1212 [==============================] - 0s 25us/step - loss: 342.6442 - accuracy: 0.6048 - val_loss: 22.8160 - val_accuracy: 0.6436\n",
      "Epoch 8/50\n",
      "1212/1212 [==============================] - 0s 25us/step - loss: 385.9527 - accuracy: 0.5833 - val_loss: 14.7036 - val_accuracy: 0.5594\n",
      "Epoch 9/50\n",
      "1212/1212 [==============================] - 0s 27us/step - loss: 948.2753 - accuracy: 0.5924 - val_loss: 40.6388 - val_accuracy: 0.5668\n",
      "Epoch 10/50\n",
      "1212/1212 [==============================] - 0s 30us/step - loss: 288.4719 - accuracy: 0.5602 - val_loss: 13.1765 - val_accuracy: 0.5965\n",
      "Epoch 11/50\n",
      "1212/1212 [==============================] - 0s 25us/step - loss: 393.0406 - accuracy: 0.6122 - val_loss: 18.0781 - val_accuracy: 0.5817\n",
      "Epoch 12/50\n",
      "1212/1212 [==============================] - 0s 28us/step - loss: 49.7918 - accuracy: 0.6378 - val_loss: 11.0235 - val_accuracy: 0.6064\n",
      "Epoch 13/50\n",
      "1212/1212 [==============================] - 0s 26us/step - loss: 22.6453 - accuracy: 0.6700 - val_loss: 9.8119 - val_accuracy: 0.6163\n",
      "Epoch 14/50\n",
      "1212/1212 [==============================] - 0s 25us/step - loss: 254.3856 - accuracy: 0.6361 - val_loss: 23.4985 - val_accuracy: 0.5644\n",
      "Epoch 15/50\n",
      "1212/1212 [==============================] - 0s 24us/step - loss: 675.8143 - accuracy: 0.6370 - val_loss: 33.0671 - val_accuracy: 0.5495\n",
      "Epoch 16/50\n",
      "1212/1212 [==============================] - 0s 25us/step - loss: 221.6097 - accuracy: 0.6601 - val_loss: 9.2329 - val_accuracy: 0.6040\n",
      "Epoch 17/50\n",
      "1212/1212 [==============================] - 0s 28us/step - loss: 239.2735 - accuracy: 0.6394 - val_loss: 18.2987 - val_accuracy: 0.6163\n",
      "Epoch 18/50\n",
      "1212/1212 [==============================] - 0s 27us/step - loss: 145.2929 - accuracy: 0.6535 - val_loss: 9.7338 - val_accuracy: 0.6460\n",
      "Epoch 19/50\n",
      "1212/1212 [==============================] - 0s 30us/step - loss: 123.9947 - accuracy: 0.5990 - val_loss: 17.1361 - val_accuracy: 0.5495\n",
      "Epoch 20/50\n",
      "1212/1212 [==============================] - 0s 30us/step - loss: 161.3936 - accuracy: 0.5743 - val_loss: 12.8813 - val_accuracy: 0.6163\n",
      "Epoch 21/50\n",
      "1212/1212 [==============================] - 0s 30us/step - loss: 41.1754 - accuracy: 0.6155 - val_loss: 7.2950 - val_accuracy: 0.5743\n",
      "Epoch 22/50\n",
      "1212/1212 [==============================] - 0s 32us/step - loss: 112.7760 - accuracy: 0.6304 - val_loss: 7.2234 - val_accuracy: 0.6361\n",
      "Epoch 23/50\n",
      "1212/1212 [==============================] - 0s 29us/step - loss: 47.0668 - accuracy: 0.6444 - val_loss: 7.4203 - val_accuracy: 0.6361\n",
      "Epoch 24/50\n",
      "1212/1212 [==============================] - 0s 29us/step - loss: 35.5850 - accuracy: 0.6485 - val_loss: 7.5517 - val_accuracy: 0.6460\n",
      "Epoch 25/50\n",
      "1212/1212 [==============================] - 0s 27us/step - loss: 77.0846 - accuracy: 0.6667 - val_loss: 7.6698 - val_accuracy: 0.6114\n",
      "Epoch 26/50\n",
      "1212/1212 [==============================] - 0s 25us/step - loss: 84.9417 - accuracy: 0.6147 - val_loss: 9.5086 - val_accuracy: 0.5743\n",
      "Epoch 27/50\n",
      "1212/1212 [==============================] - 0s 24us/step - loss: 55.3214 - accuracy: 0.6419 - val_loss: 6.6491 - val_accuracy: 0.6683\n",
      "Epoch 28/50\n",
      "1212/1212 [==============================] - 0s 23us/step - loss: 94.7439 - accuracy: 0.6518 - val_loss: 14.1623 - val_accuracy: 0.6015\n",
      "Epoch 29/50\n",
      "1212/1212 [==============================] - 0s 24us/step - loss: 239.9466 - accuracy: 0.6526 - val_loss: 9.2951 - val_accuracy: 0.5371\n",
      "Epoch 30/50\n",
      "1212/1212 [==============================] - 0s 25us/step - loss: 281.3853 - accuracy: 0.6304 - val_loss: 19.3617 - val_accuracy: 0.5545\n",
      "Epoch 31/50\n",
      "1212/1212 [==============================] - 0s 24us/step - loss: 510.9262 - accuracy: 0.6502 - val_loss: 12.4805 - val_accuracy: 0.6436\n",
      "Epoch 32/50\n",
      "1212/1212 [==============================] - 0s 27us/step - loss: 344.4303 - accuracy: 0.6411 - val_loss: 28.7379 - val_accuracy: 0.5965\n",
      "Epoch 33/50\n",
      "1212/1212 [==============================] - 0s 27us/step - loss: 493.6836 - accuracy: 0.6700 - val_loss: 5.6313 - val_accuracy: 0.6188\n",
      "Epoch 34/50\n",
      "1212/1212 [==============================] - 0s 26us/step - loss: 617.5541 - accuracy: 0.6518 - val_loss: 18.3334 - val_accuracy: 0.6287\n",
      "Epoch 35/50\n",
      "1212/1212 [==============================] - 0s 27us/step - loss: 327.6010 - accuracy: 0.6667 - val_loss: 13.3979 - val_accuracy: 0.6114\n",
      "Epoch 36/50\n",
      "1212/1212 [==============================] - 0s 23us/step - loss: 152.9271 - accuracy: 0.6922 - val_loss: 4.6138 - val_accuracy: 0.6436\n",
      "Epoch 37/50\n",
      "1212/1212 [==============================] - 0s 28us/step - loss: 180.1012 - accuracy: 0.6601 - val_loss: 6.9339 - val_accuracy: 0.6337\n",
      "Epoch 38/50\n",
      "1212/1212 [==============================] - 0s 21us/step - loss: 34.2556 - accuracy: 0.6972 - val_loss: 4.2820 - val_accuracy: 0.6757\n",
      "Epoch 39/50\n",
      "1212/1212 [==============================] - 0s 24us/step - loss: 67.4339 - accuracy: 0.6988 - val_loss: 6.4423 - val_accuracy: 0.6535\n",
      "Epoch 40/50\n",
      "1212/1212 [==============================] - 0s 25us/step - loss: 104.2113 - accuracy: 0.7145 - val_loss: 4.8846 - val_accuracy: 0.6609\n",
      "Epoch 41/50\n",
      "1212/1212 [==============================] - 0s 26us/step - loss: 129.2624 - accuracy: 0.6832 - val_loss: 6.6606 - val_accuracy: 0.5941\n",
      "Epoch 42/50\n",
      "1212/1212 [==============================] - 0s 26us/step - loss: 164.9315 - accuracy: 0.6436 - val_loss: 7.0007 - val_accuracy: 0.6436\n",
      "Epoch 43/50\n",
      "1212/1212 [==============================] - 0s 25us/step - loss: 49.1585 - accuracy: 0.6774 - val_loss: 4.8966 - val_accuracy: 0.6535\n",
      "Epoch 44/50\n",
      "1212/1212 [==============================] - 0s 26us/step - loss: 136.5958 - accuracy: 0.6898 - val_loss: 8.4369 - val_accuracy: 0.5965\n",
      "Epoch 45/50\n",
      "1212/1212 [==============================] - 0s 25us/step - loss: 43.7842 - accuracy: 0.6799 - val_loss: 6.0008 - val_accuracy: 0.6386\n",
      "Epoch 46/50\n",
      "1212/1212 [==============================] - 0s 23us/step - loss: 27.6049 - accuracy: 0.6988 - val_loss: 4.6434 - val_accuracy: 0.6460\n",
      "Epoch 47/50\n",
      "1212/1212 [==============================] - 0s 24us/step - loss: 51.1465 - accuracy: 0.7071 - val_loss: 6.9195 - val_accuracy: 0.6634\n",
      "Epoch 48/50\n",
      "1212/1212 [==============================] - 0s 24us/step - loss: 150.9937 - accuracy: 0.6320 - val_loss: 8.8933 - val_accuracy: 0.5891\n",
      "Epoch 49/50\n",
      "1212/1212 [==============================] - 0s 24us/step - loss: 40.0336 - accuracy: 0.6584 - val_loss: 10.8411 - val_accuracy: 0.6262\n",
      "Epoch 50/50\n",
      "1212/1212 [==============================] - 0s 22us/step - loss: 93.0444 - accuracy: 0.6485 - val_loss: 6.1146 - val_accuracy: 0.6238\n",
      "404/404 [==============================] - 0s 20us/step\n",
      "Test loss: 5.410, accuracy 0.594\n"
     ]
    }
   ],
   "source": [
    "history1 = fit_model(model = network1, x_train = X_train, y_train =y_train, x_val = X_val, y_val = y_val, \\\n",
    "                    x_test = X_test, y_test = y_test)"
   ]
  },
  {
   "cell_type": "markdown",
   "metadata": {},
   "source": [
    "### 3. learning curve"
   ]
  },
  {
   "cell_type": "markdown",
   "metadata": {},
   "source": [
    "### 3.1 without regularization"
   ]
  },
  {
   "cell_type": "code",
   "execution_count": 15,
   "metadata": {},
   "outputs": [
    {
     "data": {
      "text/plain": [
       "[<matplotlib.lines.Line2D at 0x2032344f670>]"
      ]
     },
     "execution_count": 15,
     "metadata": {},
     "output_type": "execute_result"
    },
    {
     "data": {
      "text/plain": [
       "[<matplotlib.lines.Line2D at 0x2032344fa90>]"
      ]
     },
     "execution_count": 15,
     "metadata": {},
     "output_type": "execute_result"
    },
    {
     "data": {
      "text/plain": [
       "Text(0.5, 1.0, 'Loss')"
      ]
     },
     "execution_count": 15,
     "metadata": {},
     "output_type": "execute_result"
    },
    {
     "data": {
      "text/plain": [
       "Text(0.5, 0, 'Epochs')"
      ]
     },
     "execution_count": 15,
     "metadata": {},
     "output_type": "execute_result"
    },
    {
     "data": {
      "text/plain": [
       "Text(0, 0.5, 'Loss')"
      ]
     },
     "execution_count": 15,
     "metadata": {},
     "output_type": "execute_result"
    },
    {
     "data": {
      "text/plain": [
       "<matplotlib.legend.Legend at 0x2032344fdc0>"
      ]
     },
     "execution_count": 15,
     "metadata": {},
     "output_type": "execute_result"
    },
    {
     "data": {
      "text/plain": [
       "<Figure size 432x288 with 0 Axes>"
      ]
     },
     "execution_count": 15,
     "metadata": {},
     "output_type": "execute_result"
    },
    {
     "data": {
      "text/plain": [
       "[<matplotlib.lines.Line2D at 0x2032deb4b20>]"
      ]
     },
     "execution_count": 15,
     "metadata": {},
     "output_type": "execute_result"
    },
    {
     "data": {
      "text/plain": [
       "[<matplotlib.lines.Line2D at 0x2032deb4fd0>]"
      ]
     },
     "execution_count": 15,
     "metadata": {},
     "output_type": "execute_result"
    },
    {
     "data": {
      "text/plain": [
       "Text(0.5, 1.0, 'Accuracy')"
      ]
     },
     "execution_count": 15,
     "metadata": {},
     "output_type": "execute_result"
    },
    {
     "data": {
      "text/plain": [
       "Text(0.5, 0, 'Epochs')"
      ]
     },
     "execution_count": 15,
     "metadata": {},
     "output_type": "execute_result"
    },
    {
     "data": {
      "text/plain": [
       "Text(0, 0.5, 'Loss')"
      ]
     },
     "execution_count": 15,
     "metadata": {},
     "output_type": "execute_result"
    },
    {
     "data": {
      "text/plain": [
       "<matplotlib.legend.Legend at 0x2032de89910>"
      ]
     },
     "execution_count": 15,
     "metadata": {},
     "output_type": "execute_result"
    },
    {
     "data": {
      "image/png": "[encoded data removed]",
      "text/plain": [
       "<Figure size 432x288 with 1 Axes>"
      ]
     },
     "metadata": {
      "needs_background": "light"
     },
     "output_type": "display_data"
    },
    {
     "data": {
      "image/png": "[encoded data removed]",
      "text/plain": [
       "<Figure size 432x288 with 1 Axes>"
      ]
     },
     "metadata": {
      "needs_background": "light"
     },
     "output_type": "display_data"
    }
   ],
   "source": [
    "import matplotlib.pyplot as plt\n",
    "\n",
    "epochs = range(1, len(history.history['val_loss']) + 1)\n",
    "plt.plot(epochs, history.history['loss'], label='Train')\n",
    "plt.plot(epochs, history.history['val_loss'], label='Validation')\n",
    "\n",
    "plt.title('Loss')\n",
    "plt.xlabel('Epochs')\n",
    "plt.ylabel('Loss')\n",
    "plt.legend()\n",
    "plt.savefig('Loss_before regularization.png', dpi=1200)\n",
    "\n",
    "plt.figure()\n",
    "\n",
    "plt.plot(epochs, history.history['accuracy'], label='Train')\n",
    "plt.plot(epochs, history.history['val_accuracy'], label='Validation')\n",
    "plt.title('Accuracy')\n",
    "plt.xlabel('Epochs')\n",
    "plt.ylabel('Loss')\n",
    "plt.legend()\n",
    "plt.savefig('Accuracy_before regularization.png', dpi=1200)\n",
    "\n",
    "plt.show()"
   ]
  },
  {
   "cell_type": "markdown",
   "metadata": {},
   "source": [
    "### 3.2 with regularization"
   ]
  },
  {
   "cell_type": "code",
   "execution_count": 16,
   "metadata": {},
   "outputs": [
    {
     "data": {
      "text/plain": [
       "[<matplotlib.lines.Line2D at 0x203254fe370>]"
      ]
     },
     "execution_count": 16,
     "metadata": {},
     "output_type": "execute_result"
    },
    {
     "data": {
      "text/plain": [
       "[<matplotlib.lines.Line2D at 0x203254fe5b0>]"
      ]
     },
     "execution_count": 16,
     "metadata": {},
     "output_type": "execute_result"
    },
    {
     "data": {
      "text/plain": [
       "Text(0.5, 1.0, 'Loss')"
      ]
     },
     "execution_count": 16,
     "metadata": {},
     "output_type": "execute_result"
    },
    {
     "data": {
      "text/plain": [
       "Text(0.5, 0, 'Epochs')"
      ]
     },
     "execution_count": 16,
     "metadata": {},
     "output_type": "execute_result"
    },
    {
     "data": {
      "text/plain": [
       "Text(0, 0.5, 'Loss')"
      ]
     },
     "execution_count": 16,
     "metadata": {},
     "output_type": "execute_result"
    },
    {
     "data": {
      "text/plain": [
       "<matplotlib.legend.Legend at 0x20320242550>"
      ]
     },
     "execution_count": 16,
     "metadata": {},
     "output_type": "execute_result"
    },
    {
     "data": {
      "text/plain": [
       "<Figure size 432x288 with 0 Axes>"
      ]
     },
     "execution_count": 16,
     "metadata": {},
     "output_type": "execute_result"
    },
    {
     "data": {
      "text/plain": [
       "[<matplotlib.lines.Line2D at 0x20325557dc0>]"
      ]
     },
     "execution_count": 16,
     "metadata": {},
     "output_type": "execute_result"
    },
    {
     "data": {
      "text/plain": [
       "[<matplotlib.lines.Line2D at 0x2032556a040>]"
      ]
     },
     "execution_count": 16,
     "metadata": {},
     "output_type": "execute_result"
    },
    {
     "data": {
      "text/plain": [
       "Text(0.5, 1.0, 'Accuracy')"
      ]
     },
     "execution_count": 16,
     "metadata": {},
     "output_type": "execute_result"
    },
    {
     "data": {
      "text/plain": [
       "Text(0.5, 0, 'Epochs')"
      ]
     },
     "execution_count": 16,
     "metadata": {},
     "output_type": "execute_result"
    },
    {
     "data": {
      "text/plain": [
       "Text(0, 0.5, 'Loss')"
      ]
     },
     "execution_count": 16,
     "metadata": {},
     "output_type": "execute_result"
    },
    {
     "data": {
      "text/plain": [
       "<matplotlib.legend.Legend at 0x20325504a90>"
      ]
     },
     "execution_count": 16,
     "metadata": {},
     "output_type": "execute_result"
    },
    {
     "data": {
      "image/png": "[encoded data removed]",
      "text/plain": [
       "<Figure size 432x288 with 1 Axes>"
      ]
     },
     "metadata": {
      "needs_background": "light"
     },
     "output_type": "display_data"
    },
    {
     "data": {
      "image/png": "[encoded data removed]",
      "text/plain": [
       "<Figure size 432x288 with 1 Axes>"
      ]
     },
     "metadata": {
      "needs_background": "light"
     },
     "output_type": "display_data"
    }
   ],
   "source": [
    "plt.plot(epochs, history1.history['loss'], label='Train')\n",
    "plt.plot(epochs, history1.history['val_loss'], label='Validation')\n",
    "\n",
    "plt.title('Loss')\n",
    "plt.xlabel('Epochs')\n",
    "plt.ylabel('Loss')\n",
    "plt.legend()\n",
    "plt.savefig('Loss_after regularization.png', dpi=1200)\n",
    "\n",
    "plt.figure()\n",
    "\n",
    "plt.plot(epochs, history1.history['accuracy'], label='Train')\n",
    "plt.plot(epochs, history1.history['val_accuracy'], label='Validation')\n",
    "\n",
    "plt.title('Accuracy')\n",
    "plt.xlabel('Epochs')\n",
    "plt.ylabel('Loss')\n",
    "plt.legend()\n",
    "plt.savefig('Accuracy_after regularization.png', dpi=1200)\n",
    "plt.show()"
   ]
  },
  {
   "cell_type": "markdown",
   "metadata": {},
   "source": [
    "### 4. classification report"
   ]
  },
  {
   "cell_type": "code",
   "execution_count": 17,
   "metadata": {},
   "outputs": [
    {
     "name": "stdout",
     "output_type": "stream",
     "text": [
      "              precision    recall  f1-score   support\n",
      "\n",
      "           0       0.60      0.64      0.62       208\n",
      "           1       0.59      0.55      0.57       196\n",
      "\n",
      "    accuracy                           0.59       404\n",
      "   macro avg       0.59      0.59      0.59       404\n",
      "weighted avg       0.59      0.59      0.59       404\n",
      "\n"
     ]
    }
   ],
   "source": [
    "from sklearn.metrics import classification_report\n",
    "\n",
    "y_hat_prob = network1.predict(X_test)    # use the model with regularization, without dropout\n",
    "y_hat = (y_hat_prob > 0.5)\n",
    "\n",
    "print(classification_report(y_test, y_hat))"
   ]
  },
  {
   "cell_type": "markdown",
   "metadata": {},
   "source": [
    "### 5. ROC curve"
   ]
  },
  {
   "cell_type": "code",
   "execution_count": 18,
   "metadata": {},
   "outputs": [],
   "source": [
    "from sklearn.metrics import roc_curve, roc_auc_score\n",
    "\n",
    "fpr, tpr, thresholds = roc_curve(y_test, y_hat_prob)\n",
    "auc = roc_auc_score(y_test, y_hat_prob)"
   ]
  },
  {
   "cell_type": "code",
   "execution_count": 19,
   "metadata": {},
   "outputs": [],
   "source": [
    "np.save('ANN_y_test.npy',y_test)\n",
    "np.save('ANN_y_hat_prob.npy', y_hat_prob)"
   ]
  },
  {
   "cell_type": "code",
   "execution_count": 25,
   "metadata": {},
   "outputs": [
    {
     "data": {
      "text/plain": [
       "<Figure size 432x288 with 0 Axes>"
      ]
     },
     "execution_count": 25,
     "metadata": {},
     "output_type": "execute_result"
    },
    {
     "data": {
      "text/plain": [
       "[<matplotlib.lines.Line2D at 0x203255301f0>]"
      ]
     },
     "execution_count": 25,
     "metadata": {},
     "output_type": "execute_result"
    },
    {
     "data": {
      "text/plain": [
       "[<matplotlib.lines.Line2D at 0x2032551d820>]"
      ]
     },
     "execution_count": 25,
     "metadata": {},
     "output_type": "execute_result"
    },
    {
     "data": {
      "text/plain": [
       "(0.0, 1.0)"
      ]
     },
     "execution_count": 25,
     "metadata": {},
     "output_type": "execute_result"
    },
    {
     "data": {
      "text/plain": [
       "(0.0, 1.05)"
      ]
     },
     "execution_count": 25,
     "metadata": {},
     "output_type": "execute_result"
    },
    {
     "data": {
      "text/plain": [
       "Text(0.5, 0, 'False Positive Rate')"
      ]
     },
     "execution_count": 25,
     "metadata": {},
     "output_type": "execute_result"
    },
    {
     "data": {
      "text/plain": [
       "Text(0, 0.5, 'True Positive Rate')"
      ]
     },
     "execution_count": 25,
     "metadata": {},
     "output_type": "execute_result"
    },
    {
     "data": {
      "text/plain": [
       "Text(0.5, 1.0, 'Receiver Operating Characteristic')"
      ]
     },
     "execution_count": 25,
     "metadata": {},
     "output_type": "execute_result"
    },
    {
     "data": {
      "text/plain": [
       "<matplotlib.legend.Legend at 0x20325599ac0>"
      ]
     },
     "execution_count": 25,
     "metadata": {},
     "output_type": "execute_result"
    },
    {
     "data": {
      "image/png": "[encoded data removed]",
      "text/plain": [
       "<Figure size 432x288 with 1 Axes>"
      ]
     },
     "metadata": {
      "needs_background": "light"
     },
     "output_type": "display_data"
    },
    {
     "data": {
      "text/plain": [
       "<Figure size 432x288 with 0 Axes>"
      ]
     },
     "metadata": {},
     "output_type": "display_data"
    }
   ],
   "source": [
    "plt.figure();\n",
    "plt.plot(fpr, tpr, lw=2, label=f'AUC: {auc:.3f}');\n",
    "plt.plot([0, 1], [0, 1], lw=2, linestyle='--');\n",
    "plt.xlim([0.0, 1.0]);\n",
    "plt.ylim([0.0, 1.05]);\n",
    "plt.xlabel('False Positive Rate');\n",
    "plt.ylabel('True Positive Rate');\n",
    "plt.title('Receiver Operating Characteristic');\n",
    "plt.legend()\n",
    "plt.show();\n",
    "plt.savefig('ROC.png', dpi=1000)"
   ]
  },
  {
   "cell_type": "markdown",
   "metadata": {},
   "source": [
    "### 6. cross validation"
   ]
  },
  {
   "cell_type": "code",
   "execution_count": 54,
   "metadata": {},
   "outputs": [
    {
     "data": {
      "text/plain": [
       "10"
      ]
     },
     "execution_count": 54,
     "metadata": {},
     "output_type": "execute_result"
    }
   ],
   "source": [
    "from sklearn.model_selection import KFold\n",
    "\n",
    "kf = KFold(n_splits=10)\n",
    "kf.get_n_splits(X)     # 10 folds CV"
   ]
  },
  {
   "cell_type": "code",
   "execution_count": 55,
   "metadata": {},
   "outputs": [
    {
     "name": "stdout",
     "output_type": "stream",
     "text": [
      "10\n",
      "10\n",
      "1818\n",
      "202\n"
     ]
    }
   ],
   "source": [
    "CV_train_indices = []  \n",
    "CV_test_indices = []\n",
    "\n",
    "for train_index, test_index in kf.split(X):\n",
    "    CV_train_indices.append(train_index)\n",
    "    CV_test_indices.append(test_index)\n",
    "    \n",
    "print(len(CV_train_indices))\n",
    "print(len(CV_test_indices))\n",
    "print(len(CV_train_indices[0]))\n",
    "print(len(CV_test_indices[0]))"
   ]
  },
  {
   "cell_type": "code",
   "execution_count": 56,
   "metadata": {},
   "outputs": [
    {
     "name": "stdout",
     "output_type": "stream",
     "text": [
      "(1818, 83)\n",
      "(1818, 1)\n"
     ]
    }
   ],
   "source": [
    "print(X[CV_train_indices[0]].shape)   # x_train\n",
    "print(y[CV_train_indices[0]].shape)   # y_train"
   ]
  },
  {
   "cell_type": "code",
   "execution_count": 57,
   "metadata": {},
   "outputs": [],
   "source": [
    "def network_CV():\n",
    "    \n",
    "    network_CV = models.Sequential()\n",
    "    network_CV.add(layers.Dense(128, kernel_regularizer=regularizers.l2(0.01), activation='relu', input_shape=(83,)))      \n",
    "    network_CV.add(layers.Dense(64, kernel_regularizer=regularizers.l2(0.01), activation='relu'))\n",
    "    network_CV.add(layers.Dense(64, kernel_regularizer=regularizers.l2(0.01), activation='relu'))\n",
    "    network_CV.add(layers.Dense(32, kernel_regularizer=regularizers.l2(0.01), activation='relu'))\n",
    "    network_CV.add(layers.Dense(1, activation='sigmoid'))  \n",
    "    \n",
    "    return network_CV"
   ]
  },
  {
   "cell_type": "code",
   "execution_count": 58,
   "metadata": {},
   "outputs": [],
   "source": [
    "def fit_model_CV(model, x_train, y_train, x_test, y_test):\n",
    "    \n",
    "    model.compile(optimizer='adam', loss='binary_crossentropy', metrics=['accuracy'])\n",
    "    history = model.fit(x_train, y_train, epochs=50, verbose=1, batch_size=64)\n",
    "    test_loss, test_acc = model.evaluate(x_test, y_test)\n",
    "\n",
    "    return test_loss, test_acc"
   ]
  },
  {
   "cell_type": "code",
   "execution_count": 59,
   "metadata": {},
   "outputs": [],
   "source": [
    "test_loss_CV = []\n",
    "test_acc_CV = []"
   ]
  },
  {
   "cell_type": "code",
   "execution_count": 60,
   "metadata": {},
   "outputs": [
    {
     "name": "stdout",
     "output_type": "stream",
     "text": [
      "Epoch 1/50\n",
      "1818/1818 [==============================] - 0s 97us/step - loss: 99.3438 - accuracy: 0.5792\n",
      "Epoch 2/50\n",
      "1818/1818 [==============================] - 0s 25us/step - loss: 600.4535 - accuracy: 0.5743\n",
      "Epoch 3/50\n",
      "1818/1818 [==============================] - 0s 23us/step - loss: 484.0977 - accuracy: 0.5803\n",
      "Epoch 4/50\n",
      "1818/1818 [==============================] - 0s 21us/step - loss: 504.1504 - accuracy: 0.5831\n",
      "Epoch 5/50\n",
      "1818/1818 [==============================] - 0s 24us/step - loss: 260.6058 - accuracy: 0.6133\n",
      "Epoch 6/50\n",
      "1818/1818 [==============================] - 0s 22us/step - loss: 72.2761 - accuracy: 0.6183\n",
      "Epoch 7/50\n",
      "1818/1818 [==============================] - 0s 22us/step - loss: 94.8916 - accuracy: 0.6282\n",
      "Epoch 8/50\n",
      "1818/1818 [==============================] - 0s 20us/step - loss: 80.4129 - accuracy: 0.6232\n",
      "Epoch 9/50\n",
      "1818/1818 [==============================] - 0s 22us/step - loss: 40.8436 - accuracy: 0.6529\n",
      "Epoch 10/50\n",
      "1818/1818 [==============================] - 0s 19us/step - loss: 119.5787 - accuracy: 0.6276\n",
      "Epoch 11/50\n",
      "1818/1818 [==============================] - 0s 19us/step - loss: 192.6050 - accuracy: 0.6452\n",
      "Epoch 12/50\n",
      "1818/1818 [==============================] - 0s 22us/step - loss: 107.4015 - accuracy: 0.6348\n",
      "Epoch 13/50\n",
      "1818/1818 [==============================] - 0s 20us/step - loss: 286.8543 - accuracy: 0.6045\n",
      "Epoch 14/50\n",
      "1818/1818 [==============================] - 0s 20us/step - loss: 133.9411 - accuracy: 0.6139\n",
      "Epoch 15/50\n",
      "1818/1818 [==============================] - 0s 20us/step - loss: 182.2284 - accuracy: 0.6166\n",
      "Epoch 16/50\n",
      "1818/1818 [==============================] - 0s 20us/step - loss: 97.9953 - accuracy: 0.6551\n",
      "Epoch 17/50\n",
      "1818/1818 [==============================] - 0s 20us/step - loss: 38.1173 - accuracy: 0.6419\n",
      "Epoch 18/50\n",
      "1818/1818 [==============================] - 0s 19us/step - loss: 23.9857 - accuracy: 0.6672\n",
      "Epoch 19/50\n",
      "1818/1818 [==============================] - 0s 23us/step - loss: 303.4555 - accuracy: 0.6425\n",
      "Epoch 20/50\n",
      "1818/1818 [==============================] - 0s 19us/step - loss: 380.7509 - accuracy: 0.6271\n",
      "Epoch 21/50\n",
      "1818/1818 [==============================] - 0s 21us/step - loss: 186.3556 - accuracy: 0.6353\n",
      "Epoch 22/50\n",
      "1818/1818 [==============================] - 0s 22us/step - loss: 40.4864 - accuracy: 0.6799\n",
      "Epoch 23/50\n",
      "1818/1818 [==============================] - 0s 20us/step - loss: 8.2486 - accuracy: 0.6678\n",
      "Epoch 24/50\n",
      "1818/1818 [==============================] - 0s 20us/step - loss: 35.1357 - accuracy: 0.6612\n",
      "Epoch 25/50\n",
      "1818/1818 [==============================] - 0s 22us/step - loss: 21.7631 - accuracy: 0.6727\n",
      "Epoch 26/50\n",
      "1818/1818 [==============================] - 0s 19us/step - loss: 14.9463 - accuracy: 0.6975\n",
      "Epoch 27/50\n",
      "1818/1818 [==============================] - 0s 22us/step - loss: 37.1247 - accuracy: 0.6909\n",
      "Epoch 28/50\n",
      "1818/1818 [==============================] - 0s 21us/step - loss: 11.5674 - accuracy: 0.6903\n",
      "Epoch 29/50\n",
      "1818/1818 [==============================] - 0s 20us/step - loss: 50.9171 - accuracy: 0.7024\n",
      "Epoch 30/50\n",
      "1818/1818 [==============================] - 0s 19us/step - loss: 46.3303 - accuracy: 0.7035\n",
      "Epoch 31/50\n",
      "1818/1818 [==============================] - 0s 21us/step - loss: 76.3021 - accuracy: 0.6381\n",
      "Epoch 32/50\n",
      "1818/1818 [==============================] - 0s 20us/step - loss: 40.3856 - accuracy: 0.6892\n",
      "Epoch 33/50\n",
      "1818/1818 [==============================] - 0s 19us/step - loss: 107.8391 - accuracy: 0.6909\n",
      "Epoch 34/50\n",
      "1818/1818 [==============================] - 0s 19us/step - loss: 76.7572 - accuracy: 0.6694\n",
      "Epoch 35/50\n",
      "1818/1818 [==============================] - 0s 19us/step - loss: 31.9578 - accuracy: 0.6617\n",
      "Epoch 36/50\n",
      "1818/1818 [==============================] - 0s 21us/step - loss: 14.1290 - accuracy: 0.6821\n",
      "Epoch 37/50\n",
      "1818/1818 [==============================] - 0s 19us/step - loss: 22.7621 - accuracy: 0.6887\n",
      "Epoch 38/50\n",
      "1818/1818 [==============================] - 0s 18us/step - loss: 6.3541 - accuracy: 0.6986\n",
      "Epoch 39/50\n",
      "1818/1818 [==============================] - 0s 19us/step - loss: 27.9225 - accuracy: 0.7096\n",
      "Epoch 40/50\n",
      "1818/1818 [==============================] - 0s 22us/step - loss: 19.0766 - accuracy: 0.7046\n",
      "Epoch 41/50\n",
      "1818/1818 [==============================] - 0s 21us/step - loss: 15.6489 - accuracy: 0.7200\n",
      "Epoch 42/50\n",
      "1818/1818 [==============================] - 0s 19us/step - loss: 26.8226 - accuracy: 0.7101\n",
      "Epoch 43/50\n",
      "1818/1818 [==============================] - 0s 20us/step - loss: 67.6790 - accuracy: 0.6848\n",
      "Epoch 44/50\n",
      "1818/1818 [==============================] - 0s 19us/step - loss: 58.3163 - accuracy: 0.7173\n",
      "Epoch 45/50\n",
      "1818/1818 [==============================] - 0s 19us/step - loss: 53.7508 - accuracy: 0.7140\n",
      "Epoch 46/50\n",
      "1818/1818 [==============================] - 0s 19us/step - loss: 24.2908 - accuracy: 0.7090\n",
      "Epoch 47/50\n",
      "1818/1818 [==============================] - 0s 19us/step - loss: 11.3202 - accuracy: 0.6843\n",
      "Epoch 48/50\n",
      "1818/1818 [==============================] - 0s 19us/step - loss: 5.4635 - accuracy: 0.6953\n",
      "Epoch 49/50\n",
      "1818/1818 [==============================] - 0s 19us/step - loss: 18.3790 - accuracy: 0.6557\n",
      "Epoch 50/50\n",
      "1818/1818 [==============================] - 0s 19us/step - loss: 2.8621 - accuracy: 0.7002\n",
      "202/202 [==============================] - 0s 190us/step\n",
      "Epoch 1/50\n",
      "1818/1818 [==============================] - 0s 95us/step - loss: 722.7100 - accuracy: 0.5231\n",
      "Epoch 2/50\n",
      "1818/1818 [==============================] - 0s 22us/step - loss: 788.7539 - accuracy: 0.5985\n",
      "Epoch 3/50\n",
      "1818/1818 [==============================] - 0s 24us/step - loss: 270.6977 - accuracy: 0.6227\n",
      "Epoch 4/50\n",
      "1818/1818 [==============================] - 0s 21us/step - loss: 421.3660 - accuracy: 0.6331\n",
      "Epoch 5/50\n",
      "1818/1818 [==============================] - 0s 23us/step - loss: 388.4927 - accuracy: 0.6364\n",
      "Epoch 6/50\n",
      "1818/1818 [==============================] - 0s 20us/step - loss: 744.4418 - accuracy: 0.6370\n",
      "Epoch 7/50\n",
      "1818/1818 [==============================] - 0s 21us/step - loss: 454.9086 - accuracy: 0.6287\n",
      "Epoch 8/50\n",
      "1818/1818 [==============================] - 0s 22us/step - loss: 103.7065 - accuracy: 0.6458\n",
      "Epoch 9/50\n",
      "1818/1818 [==============================] - 0s 21us/step - loss: 128.1678 - accuracy: 0.6661\n",
      "Epoch 10/50\n",
      "1818/1818 [==============================] - 0s 21us/step - loss: 61.1878 - accuracy: 0.6716\n",
      "Epoch 11/50\n",
      "1818/1818 [==============================] - 0s 21us/step - loss: 137.0006 - accuracy: 0.6689\n",
      "Epoch 12/50\n",
      "1818/1818 [==============================] - 0s 21us/step - loss: 559.1642 - accuracy: 0.6463\n",
      "Epoch 13/50\n",
      "1818/1818 [==============================] - 0s 21us/step - loss: 165.8691 - accuracy: 0.6518\n",
      "Epoch 14/50\n",
      "1818/1818 [==============================] - 0s 21us/step - loss: 170.7595 - accuracy: 0.6628\n",
      "Epoch 15/50\n",
      "1818/1818 [==============================] - 0s 22us/step - loss: 250.4231 - accuracy: 0.6320\n",
      "Epoch 16/50\n",
      "1818/1818 [==============================] - ETA: 0s - loss: 6.8523 - accuracy: 0.48 - 0s 22us/step - loss: 216.7325 - accuracy: 0.6441\n",
      "Epoch 17/50\n",
      "1818/1818 [==============================] - 0s 21us/step - loss: 50.7518 - accuracy: 0.6447\n",
      "Epoch 18/50\n",
      "1818/1818 [==============================] - 0s 22us/step - loss: 107.5916 - accuracy: 0.6463\n",
      "Epoch 19/50\n",
      "1818/1818 [==============================] - 0s 21us/step - loss: 215.7542 - accuracy: 0.6650\n",
      "Epoch 20/50\n",
      "1818/1818 [==============================] - 0s 21us/step - loss: 106.9403 - accuracy: 0.6535\n",
      "Epoch 21/50\n",
      "1818/1818 [==============================] - 0s 22us/step - loss: 84.7131 - accuracy: 0.6854\n",
      "Epoch 22/50\n",
      "1818/1818 [==============================] - 0s 21us/step - loss: 96.4550 - accuracy: 0.6903\n",
      "Epoch 23/50\n",
      "1818/1818 [==============================] - 0s 22us/step - loss: 6.5473 - accuracy: 0.6903\n",
      "Epoch 24/50\n",
      "1818/1818 [==============================] - 0s 21us/step - loss: 103.5020 - accuracy: 0.6529\n",
      "Epoch 25/50\n",
      "1818/1818 [==============================] - 0s 21us/step - loss: 31.9486 - accuracy: 0.6782\n",
      "Epoch 26/50\n",
      "1818/1818 [==============================] - 0s 22us/step - loss: 30.8323 - accuracy: 0.6898\n",
      "Epoch 27/50\n",
      "1818/1818 [==============================] - 0s 21us/step - loss: 80.9305 - accuracy: 0.6771\n"
     ]
    },
    {
     "name": "stdout",
     "output_type": "stream",
     "text": [
      "Epoch 28/50\n",
      "1818/1818 [==============================] - 0s 21us/step - loss: 36.5209 - accuracy: 0.6612\n",
      "Epoch 29/50\n",
      "1818/1818 [==============================] - 0s 21us/step - loss: 144.4230 - accuracy: 0.6496\n",
      "Epoch 30/50\n",
      "1818/1818 [==============================] - 0s 21us/step - loss: 135.9699 - accuracy: 0.6672\n",
      "Epoch 31/50\n",
      "1818/1818 [==============================] - 0s 21us/step - loss: 30.3425 - accuracy: 0.6854\n",
      "Epoch 32/50\n",
      "1818/1818 [==============================] - 0s 20us/step - loss: 18.4008 - accuracy: 0.6953\n",
      "Epoch 33/50\n",
      "1818/1818 [==============================] - 0s 21us/step - loss: 39.2496 - accuracy: 0.7101\n",
      "Epoch 34/50\n",
      "1818/1818 [==============================] - 0s 21us/step - loss: 13.5676 - accuracy: 0.6777\n",
      "Epoch 35/50\n",
      "1818/1818 [==============================] - 0s 21us/step - loss: 20.2488 - accuracy: 0.6925\n",
      "Epoch 36/50\n",
      "1818/1818 [==============================] - 0s 21us/step - loss: 5.9770 - accuracy: 0.6997\n",
      "Epoch 37/50\n",
      "1818/1818 [==============================] - 0s 19us/step - loss: 23.8050 - accuracy: 0.7041\n",
      "Epoch 38/50\n",
      "1818/1818 [==============================] - 0s 21us/step - loss: 32.2020 - accuracy: 0.7107\n",
      "Epoch 39/50\n",
      "1818/1818 [==============================] - 0s 20us/step - loss: 21.0627 - accuracy: 0.6799\n",
      "Epoch 40/50\n",
      "1818/1818 [==============================] - 0s 21us/step - loss: 6.1776 - accuracy: 0.6892\n",
      "Epoch 41/50\n",
      "1818/1818 [==============================] - ETA: 0s - loss: 2.2989 - accuracy: 0.79 - 0s 21us/step - loss: 7.6641 - accuracy: 0.6832\n",
      "Epoch 42/50\n",
      "1818/1818 [==============================] - 0s 20us/step - loss: 3.5652 - accuracy: 0.7140\n",
      "Epoch 43/50\n",
      "1818/1818 [==============================] - 0s 22us/step - loss: 3.1919 - accuracy: 0.7332\n",
      "Epoch 44/50\n",
      "1818/1818 [==============================] - 0s 20us/step - loss: 3.5883 - accuracy: 0.7442\n",
      "Epoch 45/50\n",
      "1818/1818 [==============================] - 0s 21us/step - loss: 3.0908 - accuracy: 0.7420\n",
      "Epoch 46/50\n",
      "1818/1818 [==============================] - 0s 20us/step - loss: 2.8702 - accuracy: 0.7431\n",
      "Epoch 47/50\n",
      "1818/1818 [==============================] - ETA: 0s - loss: 2.6334 - accuracy: 0.78 - 0s 21us/step - loss: 3.7054 - accuracy: 0.7525\n",
      "Epoch 48/50\n",
      "1818/1818 [==============================] - 0s 21us/step - loss: 3.2228 - accuracy: 0.7459\n",
      "Epoch 49/50\n",
      "1818/1818 [==============================] - 0s 21us/step - loss: 2.7765 - accuracy: 0.7569\n",
      "Epoch 50/50\n",
      "1818/1818 [==============================] - 0s 21us/step - loss: 2.7180 - accuracy: 0.7547\n",
      "202/202 [==============================] - 0s 196us/step\n",
      "Epoch 1/50\n",
      "1818/1818 [==============================] - 0s 99us/step - loss: 1002.5078 - accuracy: 0.5726\n",
      "Epoch 2/50\n",
      "1818/1818 [==============================] - 0s 21us/step - loss: 1182.5511 - accuracy: 0.5715\n",
      "Epoch 3/50\n",
      "1818/1818 [==============================] - 0s 22us/step - loss: 920.8577 - accuracy: 0.5693\n",
      "Epoch 4/50\n",
      "1818/1818 [==============================] - 0s 21us/step - loss: 434.4530 - accuracy: 0.5880\n",
      "Epoch 5/50\n",
      "1818/1818 [==============================] - 0s 21us/step - loss: 888.1802 - accuracy: 0.6078\n",
      "Epoch 6/50\n",
      "1818/1818 [==============================] - 0s 21us/step - loss: 450.0397 - accuracy: 0.6040\n",
      "Epoch 7/50\n",
      "1818/1818 [==============================] - 0s 20us/step - loss: 461.5941 - accuracy: 0.6210\n",
      "Epoch 8/50\n",
      "1818/1818 [==============================] - 0s 21us/step - loss: 657.7666 - accuracy: 0.6073\n",
      "Epoch 9/50\n",
      "1818/1818 [==============================] - 0s 21us/step - loss: 33.1549 - accuracy: 0.6315\n",
      "Epoch 10/50\n",
      "1818/1818 [==============================] - 0s 20us/step - loss: 361.2951 - accuracy: 0.6375\n",
      "Epoch 11/50\n",
      "1818/1818 [==============================] - 0s 21us/step - loss: 540.2966 - accuracy: 0.6392\n",
      "Epoch 12/50\n",
      "1818/1818 [==============================] - 0s 21us/step - loss: 133.6821 - accuracy: 0.6320\n",
      "Epoch 13/50\n",
      "1818/1818 [==============================] - 0s 20us/step - loss: 312.5017 - accuracy: 0.6469\n",
      "Epoch 14/50\n",
      "1818/1818 [==============================] - 0s 22us/step - loss: 317.8547 - accuracy: 0.6001\n",
      "Epoch 15/50\n",
      "1818/1818 [==============================] - 0s 22us/step - loss: 665.7868 - accuracy: 0.6282\n",
      "Epoch 16/50\n",
      "1818/1818 [==============================] - 0s 21us/step - loss: 400.3639 - accuracy: 0.6073\n",
      "Epoch 17/50\n",
      "1818/1818 [==============================] - 0s 22us/step - loss: 59.1551 - accuracy: 0.6364\n",
      "Epoch 18/50\n",
      "1818/1818 [==============================] - 0s 21us/step - loss: 52.9401 - accuracy: 0.6386\n",
      "Epoch 19/50\n",
      "1818/1818 [==============================] - 0s 21us/step - loss: 66.3733 - accuracy: 0.6623\n",
      "Epoch 20/50\n",
      "1818/1818 [==============================] - 0s 21us/step - loss: 234.5452 - accuracy: 0.6210\n",
      "Epoch 21/50\n",
      "1818/1818 [==============================] - 0s 21us/step - loss: 339.3840 - accuracy: 0.6667\n",
      "Epoch 22/50\n",
      "1818/1818 [==============================] - 0s 22us/step - loss: 293.2882 - accuracy: 0.6144\n",
      "Epoch 23/50\n",
      "1818/1818 [==============================] - ETA: 0s - loss: 41.3192 - accuracy: 0.671 - 0s 21us/step - loss: 50.8688 - accuracy: 0.6502\n",
      "Epoch 24/50\n",
      "1818/1818 [==============================] - 0s 20us/step - loss: 200.9159 - accuracy: 0.6419\n",
      "Epoch 25/50\n",
      "1818/1818 [==============================] - 0s 22us/step - loss: 60.1166 - accuracy: 0.6645\n",
      "Epoch 26/50\n",
      "1818/1818 [==============================] - 0s 21us/step - loss: 33.8090 - accuracy: 0.6766\n",
      "Epoch 27/50\n",
      "1818/1818 [==============================] - 0s 21us/step - loss: 124.2838 - accuracy: 0.6370\n",
      "Epoch 28/50\n",
      "1818/1818 [==============================] - 0s 22us/step - loss: 149.7102 - accuracy: 0.6661\n",
      "Epoch 29/50\n",
      "1818/1818 [==============================] - 0s 21us/step - loss: 129.9791 - accuracy: 0.6634\n",
      "Epoch 30/50\n",
      "1818/1818 [==============================] - 0s 21us/step - loss: 128.9063 - accuracy: 0.6694\n",
      "Epoch 31/50\n",
      "1818/1818 [==============================] - 0s 21us/step - loss: 156.1167 - accuracy: 0.6595\n",
      "Epoch 32/50\n",
      "1818/1818 [==============================] - ETA: 0s - loss: 505.2398 - accuracy: 0.57 - 0s 21us/step - loss: 453.8787 - accuracy: 0.6150\n",
      "Epoch 33/50\n",
      "1818/1818 [==============================] - 0s 21us/step - loss: 217.8769 - accuracy: 0.6359\n",
      "Epoch 34/50\n",
      "1818/1818 [==============================] - 0s 20us/step - loss: 101.2722 - accuracy: 0.6474\n",
      "Epoch 35/50\n",
      "1818/1818 [==============================] - 0s 21us/step - loss: 105.3959 - accuracy: 0.6441\n",
      "Epoch 36/50\n",
      "1818/1818 [==============================] - 0s 22us/step - loss: 40.9723 - accuracy: 0.6276\n",
      "Epoch 37/50\n",
      "1818/1818 [==============================] - 0s 20us/step - loss: 148.7908 - accuracy: 0.6425\n",
      "Epoch 38/50\n",
      "1818/1818 [==============================] - 0s 23us/step - loss: 70.0992 - accuracy: 0.6326\n",
      "Epoch 39/50\n",
      "1818/1818 [==============================] - 0s 21us/step - loss: 72.1403 - accuracy: 0.6403\n",
      "Epoch 40/50\n",
      "1818/1818 [==============================] - 0s 21us/step - loss: 72.3185 - accuracy: 0.6749\n",
      "Epoch 41/50\n",
      "1818/1818 [==============================] - 0s 22us/step - loss: 9.4646 - accuracy: 0.6727\n",
      "Epoch 42/50\n",
      "1818/1818 [==============================] - 0s 21us/step - loss: 65.0838 - accuracy: 0.7008\n",
      "Epoch 43/50\n",
      "1818/1818 [==============================] - 0s 21us/step - loss: 35.0139 - accuracy: 0.6898\n",
      "Epoch 44/50\n",
      "1818/1818 [==============================] - 0s 21us/step - loss: 27.1226 - accuracy: 0.6799\n",
      "Epoch 45/50\n",
      "1818/1818 [==============================] - 0s 22us/step - loss: 30.4959 - accuracy: 0.6683\n",
      "Epoch 46/50\n",
      "1818/1818 [==============================] - 0s 21us/step - loss: 9.5347 - accuracy: 0.6716\n",
      "Epoch 47/50\n",
      "1818/1818 [==============================] - 0s 21us/step - loss: 24.7059 - accuracy: 0.6705\n",
      "Epoch 48/50\n",
      "1818/1818 [==============================] - 0s 21us/step - loss: 30.6407 - accuracy: 0.6359\n",
      "Epoch 49/50\n",
      "1818/1818 [==============================] - 0s 21us/step - loss: 12.2074 - accuracy: 0.6700\n",
      "Epoch 50/50\n",
      "1818/1818 [==============================] - 0s 21us/step - loss: 7.2586 - accuracy: 0.6639\n",
      "202/202 [==============================] - 0s 195us/step\n",
      "Epoch 1/50\n",
      "1818/1818 [==============================] - 0s 98us/step - loss: 378.5404 - accuracy: 0.5462\n",
      "Epoch 2/50\n",
      "1818/1818 [==============================] - 0s 23us/step - loss: 740.2405 - accuracy: 0.5726\n",
      "Epoch 3/50\n",
      "1818/1818 [==============================] - 0s 22us/step - loss: 77.6925 - accuracy: 0.5963\n",
      "Epoch 4/50\n",
      "1818/1818 [==============================] - 0s 20us/step - loss: 871.3905 - accuracy: 0.5583\n",
      "Epoch 5/50\n",
      "1818/1818 [==============================] - 0s 21us/step - loss: 208.5874 - accuracy: 0.5770\n",
      "Epoch 6/50\n",
      "1818/1818 [==============================] - 0s 20us/step - loss: 266.1470 - accuracy: 0.6023\n",
      "Epoch 7/50\n",
      "1818/1818 [==============================] - 0s 21us/step - loss: 300.6284 - accuracy: 0.5974\n",
      "Epoch 8/50\n",
      "1818/1818 [==============================] - 0s 21us/step - loss: 131.3124 - accuracy: 0.5869\n",
      "Epoch 9/50\n",
      "1818/1818 [==============================] - 0s 20us/step - loss: 564.3141 - accuracy: 0.6073\n",
      "Epoch 10/50\n",
      "1818/1818 [==============================] - 0s 20us/step - loss: 390.6441 - accuracy: 0.6023\n",
      "Epoch 11/50\n",
      "1818/1818 [==============================] - 0s 20us/step - loss: 676.2010 - accuracy: 0.5594\n",
      "Epoch 12/50\n",
      "1818/1818 [==============================] - 0s 20us/step - loss: 2096.1647 - accuracy: 0.5275\n",
      "Epoch 13/50\n",
      "1818/1818 [==============================] - 0s 20us/step - loss: 1206.2181 - accuracy: 0.5550\n",
      "Epoch 14/50\n",
      "1818/1818 [==============================] - 0s 20us/step - loss: 309.4404 - accuracy: 0.5517\n",
      "Epoch 15/50\n",
      "1818/1818 [==============================] - 0s 19us/step - loss: 362.3292 - accuracy: 0.5671\n",
      "Epoch 16/50\n",
      "1818/1818 [==============================] - 0s 19us/step - loss: 418.7218 - accuracy: 0.5572\n",
      "Epoch 17/50\n",
      "1818/1818 [==============================] - 0s 20us/step - loss: 243.3189 - accuracy: 0.5330\n",
      "Epoch 18/50\n",
      "1818/1818 [==============================] - 0s 19us/step - loss: 37.0153 - accuracy: 0.5605\n",
      "Epoch 19/50\n",
      "1818/1818 [==============================] - 0s 20us/step - loss: 222.6822 - accuracy: 0.5633\n",
      "Epoch 20/50\n",
      "1818/1818 [==============================] - ETA: 0s - loss: 16.9820 - accuracy: 0.375 - 0s 19us/step - loss: 99.0541 - accuracy: 0.5127\n",
      "Epoch 21/50\n",
      "1818/1818 [==============================] - 0s 20us/step - loss: 266.6981 - accuracy: 0.5446\n",
      "Epoch 22/50\n",
      "1818/1818 [==============================] - 0s 20us/step - loss: 85.1257 - accuracy: 0.5556\n",
      "Epoch 23/50\n",
      "1818/1818 [==============================] - 0s 20us/step - loss: 101.6498 - accuracy: 0.5721\n",
      "Epoch 24/50\n",
      "1818/1818 [==============================] - 0s 20us/step - loss: 57.8574 - accuracy: 0.5743\n",
      "Epoch 25/50\n",
      "1818/1818 [==============================] - 0s 20us/step - loss: 91.4264 - accuracy: 0.5864\n",
      "Epoch 26/50\n",
      "1818/1818 [==============================] - 0s 21us/step - loss: 29.2442 - accuracy: 0.5908\n",
      "Epoch 27/50\n",
      "1818/1818 [==============================] - 0s 20us/step - loss: 52.0653 - accuracy: 0.5677\n",
      "Epoch 28/50\n",
      "1818/1818 [==============================] - 0s 20us/step - loss: 82.4276 - accuracy: 0.5963\n",
      "Epoch 29/50\n",
      "1818/1818 [==============================] - 0s 19us/step - loss: 71.4329 - accuracy: 0.5952\n",
      "Epoch 30/50\n",
      "1818/1818 [==============================] - 0s 21us/step - loss: 31.8158 - accuracy: 0.5952\n",
      "Epoch 31/50\n",
      "1818/1818 [==============================] - 0s 20us/step - loss: 28.9325 - accuracy: 0.5759\n",
      "Epoch 32/50\n",
      "1818/1818 [==============================] - 0s 20us/step - loss: 46.3834 - accuracy: 0.6062\n",
      "Epoch 33/50\n",
      "1818/1818 [==============================] - 0s 20us/step - loss: 37.6668 - accuracy: 0.6051\n",
      "Epoch 34/50\n",
      "1818/1818 [==============================] - 0s 20us/step - loss: 5.7636 - accuracy: 0.6260\n",
      "Epoch 35/50\n",
      "1818/1818 [==============================] - 0s 20us/step - loss: 23.8784 - accuracy: 0.6408\n",
      "Epoch 36/50\n",
      "1818/1818 [==============================] - 0s 20us/step - loss: 41.5546 - accuracy: 0.5847\n",
      "Epoch 37/50\n",
      "1818/1818 [==============================] - 0s 19us/step - loss: 16.0997 - accuracy: 0.6045\n",
      "Epoch 38/50\n",
      "1818/1818 [==============================] - 0s 20us/step - loss: 6.9428 - accuracy: 0.6276\n",
      "Epoch 39/50\n",
      "1818/1818 [==============================] - 0s 20us/step - loss: 7.8269 - accuracy: 0.6364\n",
      "Epoch 40/50\n",
      "1818/1818 [==============================] - 0s 20us/step - loss: 5.4976 - accuracy: 0.6496\n",
      "Epoch 41/50\n",
      "1818/1818 [==============================] - 0s 20us/step - loss: 7.0282 - accuracy: 0.6353\n",
      "Epoch 42/50\n",
      "1818/1818 [==============================] - 0s 20us/step - loss: 11.7816 - accuracy: 0.6535\n",
      "Epoch 43/50\n",
      "1818/1818 [==============================] - 0s 22us/step - loss: 36.1183 - accuracy: 0.6265\n",
      "Epoch 44/50\n",
      "1818/1818 [==============================] - 0s 20us/step - loss: 12.4376 - accuracy: 0.6540\n",
      "Epoch 45/50\n",
      "1818/1818 [==============================] - 0s 21us/step - loss: 29.3375 - accuracy: 0.6430\n",
      "Epoch 46/50\n",
      "1818/1818 [==============================] - 0s 21us/step - loss: 18.0023 - accuracy: 0.6452\n",
      "Epoch 47/50\n",
      "1818/1818 [==============================] - 0s 21us/step - loss: 51.1179 - accuracy: 0.6353\n",
      "Epoch 48/50\n",
      "1818/1818 [==============================] - 0s 20us/step - loss: 34.7039 - accuracy: 0.6502\n",
      "Epoch 49/50\n",
      "1818/1818 [==============================] - 0s 20us/step - loss: 14.3817 - accuracy: 0.6436\n",
      "Epoch 50/50\n",
      "1818/1818 [==============================] - 0s 20us/step - loss: 10.8507 - accuracy: 0.6623\n",
      "202/202 [==============================] - 0s 173us/step\n",
      "Epoch 1/50\n",
      "1818/1818 [==============================] - 0s 100us/step - loss: 960.8309 - accuracy: 0.5132\n",
      "Epoch 2/50\n",
      "1818/1818 [==============================] - 0s 19us/step - loss: 762.4464 - accuracy: 0.5655\n",
      "Epoch 3/50\n",
      "1818/1818 [==============================] - 0s 19us/step - loss: 162.7702 - accuracy: 0.5908\n",
      "Epoch 4/50\n",
      "1818/1818 [==============================] - 0s 21us/step - loss: 499.9233 - accuracy: 0.6001\n",
      "Epoch 5/50\n",
      "1818/1818 [==============================] - 0s 20us/step - loss: 349.4672 - accuracy: 0.5715\n",
      "Epoch 6/50\n",
      "1818/1818 [==============================] - 0s 20us/step - loss: 311.6860 - accuracy: 0.6034\n",
      "Epoch 7/50\n",
      "1818/1818 [==============================] - 0s 18us/step - loss: 245.1429 - accuracy: 0.5985\n",
      "Epoch 8/50\n",
      "1818/1818 [==============================] - 0s 20us/step - loss: 217.3250 - accuracy: 0.6227\n",
      "Epoch 9/50\n",
      "1818/1818 [==============================] - 0s 20us/step - loss: 280.2731 - accuracy: 0.6001\n",
      "Epoch 10/50\n",
      "1818/1818 [==============================] - 0s 19us/step - loss: 52.1045 - accuracy: 0.6227\n",
      "Epoch 11/50\n",
      "1818/1818 [==============================] - 0s 20us/step - loss: 137.2042 - accuracy: 0.5688\n",
      "Epoch 12/50\n",
      "1818/1818 [==============================] - 0s 19us/step - loss: 97.8850 - accuracy: 0.6320\n",
      "Epoch 13/50\n",
      "1818/1818 [==============================] - 0s 19us/step - loss: 66.4604 - accuracy: 0.6309\n",
      "Epoch 14/50\n",
      "1818/1818 [==============================] - 0s 20us/step - loss: 181.3288 - accuracy: 0.6293\n",
      "Epoch 15/50\n",
      "1818/1818 [==============================] - 0s 20us/step - loss: 179.6029 - accuracy: 0.5820\n",
      "Epoch 16/50\n",
      "1818/1818 [==============================] - 0s 20us/step - loss: 270.4910 - accuracy: 0.6254\n",
      "Epoch 17/50\n",
      "1818/1818 [==============================] - 0s 18us/step - loss: 563.5697 - accuracy: 0.6265\n",
      "Epoch 18/50\n",
      "1818/1818 [==============================] - 0s 20us/step - loss: 18.3124 - accuracy: 0.5990\n",
      "Epoch 19/50\n",
      "1818/1818 [==============================] - 0s 20us/step - loss: 209.2896 - accuracy: 0.5996\n",
      "Epoch 20/50\n",
      "1818/1818 [==============================] - 0s 20us/step - loss: 329.8109 - accuracy: 0.5919\n",
      "Epoch 21/50\n",
      "1818/1818 [==============================] - 0s 19us/step - loss: 105.2033 - accuracy: 0.6051\n",
      "Epoch 22/50\n",
      "1818/1818 [==============================] - 0s 19us/step - loss: 136.6109 - accuracy: 0.5886\n",
      "Epoch 23/50\n",
      "1818/1818 [==============================] - 0s 19us/step - loss: 109.2154 - accuracy: 0.6117\n",
      "Epoch 24/50\n",
      "1818/1818 [==============================] - 0s 19us/step - loss: 98.5482 - accuracy: 0.5935\n",
      "Epoch 25/50\n",
      "1818/1818 [==============================] - 0s 20us/step - loss: 30.6663 - accuracy: 0.6309\n",
      "Epoch 26/50\n",
      "1818/1818 [==============================] - 0s 20us/step - loss: 52.5996 - accuracy: 0.6155\n",
      "Epoch 27/50\n",
      "1818/1818 [==============================] - 0s 20us/step - loss: 10.6300 - accuracy: 0.6667\n",
      "Epoch 28/50\n",
      "1818/1818 [==============================] - 0s 21us/step - loss: 28.6619 - accuracy: 0.6392\n",
      "Epoch 29/50\n",
      "1818/1818 [==============================] - 0s 20us/step - loss: 35.0957 - accuracy: 0.6139\n"
     ]
    },
    {
     "name": "stdout",
     "output_type": "stream",
     "text": [
      "Epoch 30/50\n",
      "1818/1818 [==============================] - 0s 20us/step - loss: 65.6734 - accuracy: 0.6447\n",
      "Epoch 31/50\n",
      "1818/1818 [==============================] - 0s 19us/step - loss: 50.6180 - accuracy: 0.6606\n",
      "Epoch 32/50\n",
      "1818/1818 [==============================] - 0s 20us/step - loss: 17.7509 - accuracy: 0.6601\n",
      "Epoch 33/50\n",
      "1818/1818 [==============================] - 0s 20us/step - loss: 13.2088 - accuracy: 0.6601\n",
      "Epoch 34/50\n",
      "1818/1818 [==============================] - 0s 20us/step - loss: 35.7317 - accuracy: 0.6639\n",
      "Epoch 35/50\n",
      "1818/1818 [==============================] - 0s 19us/step - loss: 34.7664 - accuracy: 0.6100\n",
      "Epoch 36/50\n",
      "1818/1818 [==============================] - 0s 19us/step - loss: 62.3320 - accuracy: 0.6150\n",
      "Epoch 37/50\n",
      "1818/1818 [==============================] - 0s 18us/step - loss: 337.5383 - accuracy: 0.6469\n",
      "Epoch 38/50\n",
      "1818/1818 [==============================] - 0s 20us/step - loss: 89.3455 - accuracy: 0.6128\n",
      "Epoch 39/50\n",
      "1818/1818 [==============================] - 0s 20us/step - loss: 155.9788 - accuracy: 0.5957\n",
      "Epoch 40/50\n",
      "1818/1818 [==============================] - 0s 20us/step - loss: 59.5630 - accuracy: 0.6342\n",
      "Epoch 41/50\n",
      "1818/1818 [==============================] - 0s 19us/step - loss: 62.1105 - accuracy: 0.6386\n",
      "Epoch 42/50\n",
      "1818/1818 [==============================] - ETA: 0s - loss: 2.7766 - accuracy: 0.81 - 0s 19us/step - loss: 11.1692 - accuracy: 0.6705\n",
      "Epoch 43/50\n",
      "1818/1818 [==============================] - 0s 19us/step - loss: 3.9624 - accuracy: 0.7035\n",
      "Epoch 44/50\n",
      "1818/1818 [==============================] - 0s 20us/step - loss: 120.0543 - accuracy: 0.6392\n",
      "Epoch 45/50\n",
      "1818/1818 [==============================] - 0s 20us/step - loss: 98.6410 - accuracy: 0.6194\n",
      "Epoch 46/50\n",
      "1818/1818 [==============================] - 0s 20us/step - loss: 104.0349 - accuracy: 0.6309\n",
      "Epoch 47/50\n",
      "1818/1818 [==============================] - 0s 19us/step - loss: 196.6444 - accuracy: 0.5836\n",
      "Epoch 48/50\n",
      "1818/1818 [==============================] - ETA: 0s - loss: 9.7416 - accuracy: 0.64 - 0s 20us/step - loss: 50.3872 - accuracy: 0.6194\n",
      "Epoch 49/50\n",
      "1818/1818 [==============================] - 0s 20us/step - loss: 95.8353 - accuracy: 0.5374\n",
      "Epoch 50/50\n",
      "1818/1818 [==============================] - 0s 19us/step - loss: 5.7021 - accuracy: 0.5974\n",
      "202/202 [==============================] - 0s 202us/step\n",
      "Epoch 1/50\n",
      "1818/1818 [==============================] - 0s 92us/step - loss: 2128.0622 - accuracy: 0.5534\n",
      "Epoch 2/50\n",
      "1818/1818 [==============================] - 0s 21us/step - loss: 534.0066 - accuracy: 0.5809\n",
      "Epoch 3/50\n",
      "1818/1818 [==============================] - 0s 20us/step - loss: 889.8458 - accuracy: 0.5847\n",
      "Epoch 4/50\n",
      "1818/1818 [==============================] - 0s 20us/step - loss: 1811.4295 - accuracy: 0.5853\n",
      "Epoch 5/50\n",
      "1818/1818 [==============================] - 0s 21us/step - loss: 1921.8883 - accuracy: 0.5809\n",
      "Epoch 6/50\n",
      "1818/1818 [==============================] - 0s 20us/step - loss: 691.4744 - accuracy: 0.5891\n",
      "Epoch 7/50\n",
      "1818/1818 [==============================] - 0s 20us/step - loss: 115.4807 - accuracy: 0.6133\n",
      "Epoch 8/50\n",
      "1818/1818 [==============================] - 0s 19us/step - loss: 166.2556 - accuracy: 0.6320\n",
      "Epoch 9/50\n",
      "1818/1818 [==============================] - 0s 20us/step - loss: 193.2913 - accuracy: 0.6221\n",
      "Epoch 10/50\n",
      "1818/1818 [==============================] - 0s 20us/step - loss: 223.7952 - accuracy: 0.6392\n",
      "Epoch 11/50\n",
      "1818/1818 [==============================] - 0s 20us/step - loss: 233.9551 - accuracy: 0.6276\n",
      "Epoch 12/50\n",
      "1818/1818 [==============================] - 0s 20us/step - loss: 13.2964 - accuracy: 0.6705\n",
      "Epoch 13/50\n",
      "1818/1818 [==============================] - 0s 21us/step - loss: 127.2897 - accuracy: 0.6623\n",
      "Epoch 14/50\n",
      "1818/1818 [==============================] - 0s 20us/step - loss: 340.0938 - accuracy: 0.6419\n",
      "Epoch 15/50\n",
      "1818/1818 [==============================] - 0s 20us/step - loss: 82.4954 - accuracy: 0.6557\n",
      "Epoch 16/50\n",
      "1818/1818 [==============================] - 0s 20us/step - loss: 41.7349 - accuracy: 0.6936\n",
      "Epoch 17/50\n",
      "1818/1818 [==============================] - 0s 20us/step - loss: 89.4333 - accuracy: 0.6958\n",
      "Epoch 18/50\n",
      "1818/1818 [==============================] - 0s 21us/step - loss: 124.9190 - accuracy: 0.6903\n",
      "Epoch 19/50\n",
      "1818/1818 [==============================] - 0s 20us/step - loss: 154.2336 - accuracy: 0.6689\n",
      "Epoch 20/50\n",
      "1818/1818 [==============================] - 0s 19us/step - loss: 50.2219 - accuracy: 0.6711\n",
      "Epoch 21/50\n",
      "1818/1818 [==============================] - 0s 20us/step - loss: 109.8469 - accuracy: 0.6458\n",
      "Epoch 22/50\n",
      "1818/1818 [==============================] - 0s 19us/step - loss: 122.4547 - accuracy: 0.6733\n",
      "Epoch 23/50\n",
      "1818/1818 [==============================] - 0s 20us/step - loss: 309.5418 - accuracy: 0.6529\n",
      "Epoch 24/50\n",
      "1818/1818 [==============================] - 0s 20us/step - loss: 268.3220 - accuracy: 0.6623\n",
      "Epoch 25/50\n",
      "1818/1818 [==============================] - 0s 20us/step - loss: 105.1313 - accuracy: 0.6903\n",
      "Epoch 26/50\n",
      "1818/1818 [==============================] - 0s 19us/step - loss: 77.9029 - accuracy: 0.6474\n",
      "Epoch 27/50\n",
      "1818/1818 [==============================] - 0s 19us/step - loss: 155.4128 - accuracy: 0.6238\n",
      "Epoch 28/50\n",
      "1818/1818 [==============================] - 0s 20us/step - loss: 46.0223 - accuracy: 0.6733\n",
      "Epoch 29/50\n",
      "1818/1818 [==============================] - 0s 20us/step - loss: 29.7949 - accuracy: 0.6870\n",
      "Epoch 30/50\n",
      "1818/1818 [==============================] - 0s 19us/step - loss: 42.3771 - accuracy: 0.6760\n",
      "Epoch 31/50\n",
      "1818/1818 [==============================] - 0s 19us/step - loss: 93.2916 - accuracy: 0.7035\n",
      "Epoch 32/50\n",
      "1818/1818 [==============================] - 0s 21us/step - loss: 20.8718 - accuracy: 0.7200\n",
      "Epoch 33/50\n",
      "1818/1818 [==============================] - 0s 20us/step - loss: 12.8430 - accuracy: 0.7162\n",
      "Epoch 34/50\n",
      "1818/1818 [==============================] - 0s 20us/step - loss: 15.1329 - accuracy: 0.7019\n",
      "Epoch 35/50\n",
      "1818/1818 [==============================] - 0s 20us/step - loss: 111.7709 - accuracy: 0.7096\n",
      "Epoch 36/50\n",
      "1818/1818 [==============================] - ETA: 0s - loss: 5.6006 - accuracy: 0.62 - 0s 20us/step - loss: 80.8623 - accuracy: 0.6584\n",
      "Epoch 37/50\n",
      "1818/1818 [==============================] - 0s 20us/step - loss: 107.0274 - accuracy: 0.6656\n",
      "Epoch 38/50\n",
      "1818/1818 [==============================] - 0s 20us/step - loss: 55.7552 - accuracy: 0.6804\n",
      "Epoch 39/50\n",
      "1818/1818 [==============================] - 0s 20us/step - loss: 85.0766 - accuracy: 0.6755\n",
      "Epoch 40/50\n",
      "1818/1818 [==============================] - 0s 19us/step - loss: 23.6986 - accuracy: 0.6975\n",
      "Epoch 41/50\n",
      "1818/1818 [==============================] - 0s 20us/step - loss: 82.5268 - accuracy: 0.7046\n",
      "Epoch 42/50\n",
      "1818/1818 [==============================] - 0s 20us/step - loss: 165.8032 - accuracy: 0.7035\n",
      "Epoch 43/50\n",
      "1818/1818 [==============================] - 0s 20us/step - loss: 184.6109 - accuracy: 0.7013\n",
      "Epoch 44/50\n",
      "1818/1818 [==============================] - 0s 18us/step - loss: 136.7201 - accuracy: 0.7079\n",
      "Epoch 45/50\n",
      "1818/1818 [==============================] - 0s 18us/step - loss: 196.0979 - accuracy: 0.7140\n",
      "Epoch 46/50\n",
      "1818/1818 [==============================] - 0s 21us/step - loss: 22.9933 - accuracy: 0.7288\n",
      "Epoch 47/50\n",
      "1818/1818 [==============================] - 0s 20us/step - loss: 75.3959 - accuracy: 0.7277\n",
      "Epoch 48/50\n",
      "1818/1818 [==============================] - 0s 20us/step - loss: 167.3053 - accuracy: 0.7118\n",
      "Epoch 49/50\n",
      "1818/1818 [==============================] - 0s 18us/step - loss: 44.9330 - accuracy: 0.7332\n",
      "Epoch 50/50\n",
      "1818/1818 [==============================] - 0s 20us/step - loss: 116.1387 - accuracy: 0.6854\n",
      "202/202 [==============================] - 0s 147us/step\n",
      "Epoch 1/50\n",
      "1818/1818 [==============================] - 0s 94us/step - loss: 1602.1788 - accuracy: 0.5396\n",
      "Epoch 2/50\n",
      "1818/1818 [==============================] - 0s 19us/step - loss: 1544.8356 - accuracy: 0.5528\n",
      "Epoch 3/50\n",
      "1818/1818 [==============================] - 0s 22us/step - loss: 898.9858 - accuracy: 0.5919\n",
      "Epoch 4/50\n",
      "1818/1818 [==============================] - 0s 21us/step - loss: 402.5316 - accuracy: 0.5908\n",
      "Epoch 5/50\n",
      "1818/1818 [==============================] - 0s 20us/step - loss: 1297.3812 - accuracy: 0.5836\n",
      "Epoch 6/50\n",
      "1818/1818 [==============================] - 0s 21us/step - loss: 106.2496 - accuracy: 0.6315\n",
      "Epoch 7/50\n",
      "1818/1818 [==============================] - ETA: 0s - loss: 10.4679 - accuracy: 0.531 - 0s 21us/step - loss: 778.1294 - accuracy: 0.5996\n",
      "Epoch 8/50\n",
      "1818/1818 [==============================] - 0s 20us/step - loss: 629.6767 - accuracy: 0.6298\n",
      "Epoch 9/50\n",
      "1818/1818 [==============================] - 0s 21us/step - loss: 785.1597 - accuracy: 0.5974\n",
      "Epoch 10/50\n",
      "1818/1818 [==============================] - 0s 20us/step - loss: 119.8811 - accuracy: 0.6309\n",
      "Epoch 11/50\n",
      "1818/1818 [==============================] - ETA: 0s - loss: 4.4635 - accuracy: 0.75 - 0s 21us/step - loss: 667.6289 - accuracy: 0.6337\n",
      "Epoch 12/50\n",
      "1818/1818 [==============================] - 0s 21us/step - loss: 182.8435 - accuracy: 0.6441\n",
      "Epoch 13/50\n",
      "1818/1818 [==============================] - 0s 20us/step - loss: 274.0552 - accuracy: 0.6298\n",
      "Epoch 14/50\n",
      "1818/1818 [==============================] - 0s 20us/step - loss: 543.9827 - accuracy: 0.6326\n",
      "Epoch 15/50\n",
      "1818/1818 [==============================] - 0s 20us/step - loss: 222.1985 - accuracy: 0.6408\n",
      "Epoch 16/50\n",
      "1818/1818 [==============================] - 0s 21us/step - loss: 408.9935 - accuracy: 0.5880\n",
      "Epoch 17/50\n",
      "1818/1818 [==============================] - 0s 20us/step - loss: 267.1144 - accuracy: 0.6260\n",
      "Epoch 18/50\n",
      "1818/1818 [==============================] - 0s 20us/step - loss: 204.7528 - accuracy: 0.6298\n",
      "Epoch 19/50\n",
      "1818/1818 [==============================] - 0s 21us/step - loss: 306.6529 - accuracy: 0.6535\n",
      "Epoch 20/50\n",
      "1818/1818 [==============================] - 0s 21us/step - loss: 164.0719 - accuracy: 0.6452\n",
      "Epoch 21/50\n",
      "1818/1818 [==============================] - 0s 21us/step - loss: 108.4388 - accuracy: 0.6414\n",
      "Epoch 22/50\n",
      "1818/1818 [==============================] - 0s 21us/step - loss: 286.4991 - accuracy: 0.6040\n",
      "Epoch 23/50\n",
      "1818/1818 [==============================] - 0s 21us/step - loss: 334.3458 - accuracy: 0.6447\n",
      "Epoch 24/50\n",
      "1818/1818 [==============================] - 0s 20us/step - loss: 420.5488 - accuracy: 0.6507\n",
      "Epoch 25/50\n",
      "1818/1818 [==============================] - 0s 21us/step - loss: 218.4065 - accuracy: 0.6524\n",
      "Epoch 26/50\n",
      "1818/1818 [==============================] - 0s 20us/step - loss: 178.0805 - accuracy: 0.6617\n",
      "Epoch 27/50\n",
      "1818/1818 [==============================] - 0s 20us/step - loss: 261.3696 - accuracy: 0.6485\n",
      "Epoch 28/50\n",
      "1818/1818 [==============================] - 0s 21us/step - loss: 53.3005 - accuracy: 0.6738\n",
      "Epoch 29/50\n",
      "1818/1818 [==============================] - 0s 21us/step - loss: 53.2003 - accuracy: 0.6777\n",
      "Epoch 30/50\n",
      "1818/1818 [==============================] - 0s 20us/step - loss: 303.6408 - accuracy: 0.6694\n",
      "Epoch 31/50\n",
      "1818/1818 [==============================] - 0s 21us/step - loss: 36.0977 - accuracy: 0.6837\n",
      "Epoch 32/50\n",
      "1818/1818 [==============================] - 0s 21us/step - loss: 379.9657 - accuracy: 0.6139\n",
      "Epoch 33/50\n",
      "1818/1818 [==============================] - 0s 21us/step - loss: 139.3107 - accuracy: 0.6617\n",
      "Epoch 34/50\n",
      "1818/1818 [==============================] - 0s 20us/step - loss: 50.5555 - accuracy: 0.6892\n",
      "Epoch 35/50\n",
      "1818/1818 [==============================] - 0s 21us/step - loss: 277.7736 - accuracy: 0.6309\n",
      "Epoch 36/50\n",
      "1818/1818 [==============================] - 0s 21us/step - loss: 258.1982 - accuracy: 0.6144\n",
      "Epoch 37/50\n",
      "1818/1818 [==============================] - 0s 23us/step - loss: 287.0918 - accuracy: 0.6474\n",
      "Epoch 38/50\n",
      "1818/1818 [==============================] - 0s 22us/step - loss: 1329.4511 - accuracy: 0.6238\n",
      "Epoch 39/50\n",
      "1818/1818 [==============================] - 0s 21us/step - loss: 325.1838 - accuracy: 0.6331\n",
      "Epoch 40/50\n",
      "1818/1818 [==============================] - 0s 23us/step - loss: 75.1622 - accuracy: 0.6100\n",
      "Epoch 41/50\n",
      "1818/1818 [==============================] - 0s 24us/step - loss: 171.9094 - accuracy: 0.5605\n",
      "Epoch 42/50\n",
      "1818/1818 [==============================] - 0s 23us/step - loss: 48.7098 - accuracy: 0.6012\n",
      "Epoch 43/50\n",
      "1818/1818 [==============================] - 0s 23us/step - loss: 34.7936 - accuracy: 0.6001\n",
      "Epoch 44/50\n",
      "1818/1818 [==============================] - 0s 25us/step - loss: 64.2562 - accuracy: 0.5919\n",
      "Epoch 45/50\n",
      "1818/1818 [==============================] - 0s 24us/step - loss: 245.3273 - accuracy: 0.5781\n",
      "Epoch 46/50\n",
      "1818/1818 [==============================] - 0s 22us/step - loss: 50.6658 - accuracy: 0.5864\n",
      "Epoch 47/50\n",
      "1818/1818 [==============================] - 0s 25us/step - loss: 256.7722 - accuracy: 0.6249\n",
      "Epoch 48/50\n",
      "1818/1818 [==============================] - 0s 26us/step - loss: 71.0573 - accuracy: 0.6271\n",
      "Epoch 49/50\n",
      "1818/1818 [==============================] - 0s 25us/step - loss: 62.5466 - accuracy: 0.6254\n",
      "Epoch 50/50\n",
      "1818/1818 [==============================] - 0s 23us/step - loss: 80.4412 - accuracy: 0.6260\n",
      "202/202 [==============================] - 0s 204us/step\n",
      "Epoch 1/50\n",
      "1818/1818 [==============================] - 0s 104us/step - loss: 676.2680 - accuracy: 0.5512\n",
      "Epoch 2/50\n",
      "1818/1818 [==============================] - 0s 21us/step - loss: 270.4014 - accuracy: 0.5880\n",
      "Epoch 3/50\n",
      "1818/1818 [==============================] - 0s 22us/step - loss: 484.2169 - accuracy: 0.6045\n",
      "Epoch 4/50\n",
      "1818/1818 [==============================] - 0s 22us/step - loss: 232.3504 - accuracy: 0.6331\n",
      "Epoch 5/50\n",
      "1818/1818 [==============================] - 0s 23us/step - loss: 53.9817 - accuracy: 0.6243\n",
      "Epoch 6/50\n",
      "1818/1818 [==============================] - 0s 22us/step - loss: 131.0096 - accuracy: 0.6496\n",
      "Epoch 7/50\n",
      "1818/1818 [==============================] - 0s 25us/step - loss: 371.0468 - accuracy: 0.5875\n",
      "Epoch 8/50\n",
      "1818/1818 [==============================] - 0s 24us/step - loss: 21.9862 - accuracy: 0.6447\n",
      "Epoch 9/50\n",
      "1818/1818 [==============================] - 0s 24us/step - loss: 125.8794 - accuracy: 0.6441\n",
      "Epoch 10/50\n",
      "1818/1818 [==============================] - 0s 23us/step - loss: 161.4900 - accuracy: 0.6425\n",
      "Epoch 11/50\n",
      "1818/1818 [==============================] - 0s 23us/step - loss: 167.8605 - accuracy: 0.6403\n",
      "Epoch 12/50\n",
      "1818/1818 [==============================] - 0s 25us/step - loss: 180.0225 - accuracy: 0.6287\n",
      "Epoch 13/50\n",
      "1818/1818 [==============================] - 0s 24us/step - loss: 194.4379 - accuracy: 0.5644\n",
      "Epoch 14/50\n",
      "1818/1818 [==============================] - 0s 24us/step - loss: 289.1861 - accuracy: 0.6045\n",
      "Epoch 15/50\n",
      "1818/1818 [==============================] - 0s 24us/step - loss: 38.1471 - accuracy: 0.6161\n",
      "Epoch 16/50\n",
      "1818/1818 [==============================] - 0s 26us/step - loss: 87.1986 - accuracy: 0.6463\n",
      "Epoch 17/50\n",
      "1818/1818 [==============================] - 0s 25us/step - loss: 96.3208 - accuracy: 0.6458\n",
      "Epoch 18/50\n",
      "1818/1818 [==============================] - 0s 22us/step - loss: 359.2684 - accuracy: 0.6287\n",
      "Epoch 19/50\n",
      "1818/1818 [==============================] - 0s 24us/step - loss: 210.2314 - accuracy: 0.6386\n",
      "Epoch 20/50\n",
      "1818/1818 [==============================] - 0s 25us/step - loss: 72.1887 - accuracy: 0.6804\n",
      "Epoch 21/50\n",
      "1818/1818 [==============================] - 0s 24us/step - loss: 71.7255 - accuracy: 0.6766\n",
      "Epoch 22/50\n",
      "1818/1818 [==============================] - 0s 25us/step - loss: 65.3522 - accuracy: 0.6727\n",
      "Epoch 23/50\n",
      "1818/1818 [==============================] - 0s 25us/step - loss: 56.8829 - accuracy: 0.6667\n",
      "Epoch 24/50\n",
      "1818/1818 [==============================] - 0s 26us/step - loss: 85.4365 - accuracy: 0.6920\n",
      "Epoch 25/50\n",
      "1818/1818 [==============================] - 0s 25us/step - loss: 152.9153 - accuracy: 0.6969\n",
      "Epoch 26/50\n",
      "1818/1818 [==============================] - 0s 26us/step - loss: 81.1831 - accuracy: 0.6843\n",
      "Epoch 27/50\n",
      "1818/1818 [==============================] - 0s 25us/step - loss: 60.9318 - accuracy: 0.6782\n",
      "Epoch 28/50\n",
      "1818/1818 [==============================] - 0s 23us/step - loss: 53.9006 - accuracy: 0.6359\n",
      "Epoch 29/50\n",
      "1818/1818 [==============================] - 0s 26us/step - loss: 67.4651 - accuracy: 0.6463\n",
      "Epoch 30/50\n",
      "1818/1818 [==============================] - 0s 25us/step - loss: 136.2888 - accuracy: 0.6661\n",
      "Epoch 31/50\n"
     ]
    },
    {
     "name": "stdout",
     "output_type": "stream",
     "text": [
      "1818/1818 [==============================] - 0s 25us/step - loss: 89.3186 - accuracy: 0.6942\n",
      "Epoch 32/50\n",
      "1818/1818 [==============================] - 0s 25us/step - loss: 44.2579 - accuracy: 0.6947\n",
      "Epoch 33/50\n",
      "1818/1818 [==============================] - 0s 25us/step - loss: 41.2936 - accuracy: 0.6815\n",
      "Epoch 34/50\n",
      "1818/1818 [==============================] - 0s 24us/step - loss: 32.5492 - accuracy: 0.6672\n",
      "Epoch 35/50\n",
      "1818/1818 [==============================] - 0s 25us/step - loss: 37.1953 - accuracy: 0.6887\n",
      "Epoch 36/50\n",
      "1818/1818 [==============================] - 0s 25us/step - loss: 75.6217 - accuracy: 0.6947\n",
      "Epoch 37/50\n",
      "1818/1818 [==============================] - 0s 24us/step - loss: 48.8326 - accuracy: 0.6403\n",
      "Epoch 38/50\n",
      "1818/1818 [==============================] - 0s 25us/step - loss: 97.0223 - accuracy: 0.6370\n",
      "Epoch 39/50\n",
      "1818/1818 [==============================] - 0s 25us/step - loss: 121.5158 - accuracy: 0.6397\n",
      "Epoch 40/50\n",
      "1818/1818 [==============================] - 0s 24us/step - loss: 47.9358 - accuracy: 0.6441\n",
      "Epoch 41/50\n",
      "1818/1818 [==============================] - 0s 23us/step - loss: 27.6061 - accuracy: 0.6749\n",
      "Epoch 42/50\n",
      "1818/1818 [==============================] - 0s 25us/step - loss: 63.6646 - accuracy: 0.6529\n",
      "Epoch 43/50\n",
      "1818/1818 [==============================] - 0s 24us/step - loss: 30.0918 - accuracy: 0.7162\n",
      "Epoch 44/50\n",
      "1818/1818 [==============================] - 0s 24us/step - loss: 32.6617 - accuracy: 0.6953\n",
      "Epoch 45/50\n",
      "1818/1818 [==============================] - 0s 23us/step - loss: 33.7719 - accuracy: 0.6738\n",
      "Epoch 46/50\n",
      "1818/1818 [==============================] - 0s 24us/step - loss: 24.5583 - accuracy: 0.7090\n",
      "Epoch 47/50\n",
      "1818/1818 [==============================] - 0s 22us/step - loss: 28.5802 - accuracy: 0.7096\n",
      "Epoch 48/50\n",
      "1818/1818 [==============================] - 0s 25us/step - loss: 18.8757 - accuracy: 0.7277\n",
      "Epoch 49/50\n",
      "1818/1818 [==============================] - 0s 25us/step - loss: 62.0521 - accuracy: 0.6892\n",
      "Epoch 50/50\n",
      "1818/1818 [==============================] - 0s 24us/step - loss: 29.5893 - accuracy: 0.6661\n",
      "202/202 [==============================] - 0s 237us/step\n",
      "Epoch 1/50\n",
      "1818/1818 [==============================] - 0s 100us/step - loss: 545.8855 - accuracy: 0.5259\n",
      "Epoch 2/50\n",
      "1818/1818 [==============================] - 0s 21us/step - loss: 225.6022 - accuracy: 0.5776\n",
      "Epoch 3/50\n",
      "1818/1818 [==============================] - 0s 20us/step - loss: 664.4237 - accuracy: 0.6084\n",
      "Epoch 4/50\n",
      "1818/1818 [==============================] - 0s 22us/step - loss: 147.4134 - accuracy: 0.5616\n",
      "Epoch 5/50\n",
      "1818/1818 [==============================] - 0s 22us/step - loss: 348.4750 - accuracy: 0.5847\n",
      "Epoch 6/50\n",
      "1818/1818 [==============================] - 0s 22us/step - loss: 344.1773 - accuracy: 0.5935\n",
      "Epoch 7/50\n",
      "1818/1818 [==============================] - 0s 23us/step - loss: 374.5420 - accuracy: 0.5924\n",
      "Epoch 8/50\n",
      "1818/1818 [==============================] - 0s 23us/step - loss: 663.9465 - accuracy: 0.5396\n",
      "Epoch 9/50\n",
      "1818/1818 [==============================] - 0s 22us/step - loss: 541.9689 - accuracy: 0.5556\n",
      "Epoch 10/50\n",
      "1818/1818 [==============================] - 0s 23us/step - loss: 243.3114 - accuracy: 0.6084\n",
      "Epoch 11/50\n",
      "1818/1818 [==============================] - 0s 22us/step - loss: 90.6223 - accuracy: 0.6161\n",
      "Epoch 12/50\n",
      "1818/1818 [==============================] - 0s 24us/step - loss: 211.4819 - accuracy: 0.5798\n",
      "Epoch 13/50\n",
      "1818/1818 [==============================] - 0s 22us/step - loss: 61.9768 - accuracy: 0.6106\n",
      "Epoch 14/50\n",
      "1818/1818 [==============================] - 0s 23us/step - loss: 129.2653 - accuracy: 0.6023\n",
      "Epoch 15/50\n",
      "1818/1818 [==============================] - 0s 23us/step - loss: 117.4217 - accuracy: 0.5974\n",
      "Epoch 16/50\n",
      "1818/1818 [==============================] - 0s 22us/step - loss: 58.4323 - accuracy: 0.5732\n",
      "Epoch 17/50\n",
      "1818/1818 [==============================] - 0s 24us/step - loss: 17.0940 - accuracy: 0.6084\n",
      "Epoch 18/50\n",
      "1818/1818 [==============================] - 0s 23us/step - loss: 60.4036 - accuracy: 0.6177\n",
      "Epoch 19/50\n",
      "1818/1818 [==============================] - 0s 23us/step - loss: 25.3947 - accuracy: 0.6260\n",
      "Epoch 20/50\n",
      "1818/1818 [==============================] - 0s 24us/step - loss: 64.7063 - accuracy: 0.6012\n",
      "Epoch 21/50\n",
      "1818/1818 [==============================] - 0s 24us/step - loss: 8.7546 - accuracy: 0.6155\n",
      "Epoch 22/50\n",
      "1818/1818 [==============================] - 0s 24us/step - loss: 70.4240 - accuracy: 0.6012\n",
      "Epoch 23/50\n",
      "1818/1818 [==============================] - 0s 23us/step - loss: 39.3231 - accuracy: 0.6078\n",
      "Epoch 24/50\n",
      "1818/1818 [==============================] - 0s 24us/step - loss: 23.5948 - accuracy: 0.5924\n",
      "Epoch 25/50\n",
      "1818/1818 [==============================] - 0s 24us/step - loss: 46.5801 - accuracy: 0.5869\n",
      "Epoch 26/50\n",
      "1818/1818 [==============================] - 0s 26us/step - loss: 38.2704 - accuracy: 0.5913\n",
      "Epoch 27/50\n",
      "1818/1818 [==============================] - 0s 25us/step - loss: 16.1169 - accuracy: 0.6227\n",
      "Epoch 28/50\n",
      "1818/1818 [==============================] - 0s 23us/step - loss: 35.2509 - accuracy: 0.6557\n",
      "Epoch 29/50\n",
      "1818/1818 [==============================] - 0s 25us/step - loss: 9.3273 - accuracy: 0.6584\n",
      "Epoch 30/50\n",
      "1818/1818 [==============================] - 0s 25us/step - loss: 19.1431 - accuracy: 0.6392\n",
      "Epoch 31/50\n",
      "1818/1818 [==============================] - 0s 24us/step - loss: 9.3798 - accuracy: 0.6458\n",
      "Epoch 32/50\n",
      "1818/1818 [==============================] - 0s 23us/step - loss: 23.5193 - accuracy: 0.6639\n",
      "Epoch 33/50\n",
      "1818/1818 [==============================] - 0s 25us/step - loss: 7.6909 - accuracy: 0.6634\n",
      "Epoch 34/50\n",
      "1818/1818 [==============================] - 0s 23us/step - loss: 37.0605 - accuracy: 0.6656\n",
      "Epoch 35/50\n",
      "1818/1818 [==============================] - 0s 25us/step - loss: 15.3002 - accuracy: 0.6051\n",
      "Epoch 36/50\n",
      "1818/1818 [==============================] - 0s 23us/step - loss: 27.1210 - accuracy: 0.6381\n",
      "Epoch 37/50\n",
      "1818/1818 [==============================] - 0s 26us/step - loss: 15.4012 - accuracy: 0.6628\n",
      "Epoch 38/50\n",
      "1818/1818 [==============================] - 0s 24us/step - loss: 8.5534 - accuracy: 0.6711\n",
      "Epoch 39/50\n",
      "1818/1818 [==============================] - 0s 24us/step - loss: 7.9180 - accuracy: 0.6562\n",
      "Epoch 40/50\n",
      "1818/1818 [==============================] - 0s 24us/step - loss: 47.8711 - accuracy: 0.6491\n",
      "Epoch 41/50\n",
      "1818/1818 [==============================] - 0s 24us/step - loss: 19.2095 - accuracy: 0.6469\n",
      "Epoch 42/50\n",
      "1818/1818 [==============================] - 0s 24us/step - loss: 22.6230 - accuracy: 0.6276\n",
      "Epoch 43/50\n",
      "1818/1818 [==============================] - 0s 23us/step - loss: 37.4875 - accuracy: 0.6496\n",
      "Epoch 44/50\n",
      "1818/1818 [==============================] - 0s 24us/step - loss: 66.9239 - accuracy: 0.6128\n",
      "Epoch 45/50\n",
      "1818/1818 [==============================] - 0s 23us/step - loss: 49.6701 - accuracy: 0.6023\n",
      "Epoch 46/50\n",
      "1818/1818 [==============================] - 0s 25us/step - loss: 46.3879 - accuracy: 0.6342\n",
      "Epoch 47/50\n",
      "1818/1818 [==============================] - 0s 25us/step - loss: 137.0783 - accuracy: 0.6342\n",
      "Epoch 48/50\n",
      "1818/1818 [==============================] - 0s 25us/step - loss: 23.0852 - accuracy: 0.6397\n",
      "Epoch 49/50\n",
      "1818/1818 [==============================] - 0s 24us/step - loss: 7.2916 - accuracy: 0.6496\n",
      "Epoch 50/50\n",
      "1818/1818 [==============================] - 0s 25us/step - loss: 8.0961 - accuracy: 0.6562\n",
      "202/202 [==============================] - 0s 208us/step\n",
      "Epoch 1/50\n",
      "1818/1818 [==============================] - 0s 98us/step - loss: 486.5238 - accuracy: 0.5275\n",
      "Epoch 2/50\n",
      "1818/1818 [==============================] - 0s 20us/step - loss: 824.5236 - accuracy: 0.5506\n",
      "Epoch 3/50\n",
      "1818/1818 [==============================] - 0s 22us/step - loss: 519.9692 - accuracy: 0.5704\n",
      "Epoch 4/50\n",
      "1818/1818 [==============================] - 0s 22us/step - loss: 134.9684 - accuracy: 0.5622\n",
      "Epoch 5/50\n",
      "1818/1818 [==============================] - 0s 23us/step - loss: 441.5209 - accuracy: 0.5996\n",
      "Epoch 6/50\n",
      "1818/1818 [==============================] - 0s 23us/step - loss: 104.5006 - accuracy: 0.6067\n",
      "Epoch 7/50\n",
      "1818/1818 [==============================] - 0s 22us/step - loss: 95.7006 - accuracy: 0.6403\n",
      "Epoch 8/50\n"
     ]
    },
    {
     "name": "stdout",
     "output_type": "stream",
     "text": [
      "1818/1818 [==============================] - 0s 24us/step - loss: 369.4678 - accuracy: 0.6095\n",
      "Epoch 9/50\n",
      "1818/1818 [==============================] - 0s 24us/step - loss: 310.3482 - accuracy: 0.5974\n",
      "Epoch 10/50\n",
      "1818/1818 [==============================] - 0s 23us/step - loss: 71.4042 - accuracy: 0.6122\n",
      "Epoch 11/50\n",
      "1818/1818 [==============================] - 0s 25us/step - loss: 223.6008 - accuracy: 0.6359\n",
      "Epoch 12/50\n",
      "1818/1818 [==============================] - 0s 25us/step - loss: 204.4948 - accuracy: 0.6260\n",
      "Epoch 13/50\n",
      "1818/1818 [==============================] - 0s 24us/step - loss: 36.3183 - accuracy: 0.6485\n",
      "Epoch 14/50\n",
      "1818/1818 [==============================] - 0s 23us/step - loss: 68.7006 - accuracy: 0.6381\n",
      "Epoch 15/50\n",
      "1818/1818 [==============================] - 0s 24us/step - loss: 111.3267 - accuracy: 0.6265\n",
      "Epoch 16/50\n",
      "1818/1818 [==============================] - 0s 25us/step - loss: 111.3527 - accuracy: 0.6386\n",
      "Epoch 17/50\n",
      "1818/1818 [==============================] - 0s 23us/step - loss: 38.0056 - accuracy: 0.6617\n",
      "Epoch 18/50\n",
      "1818/1818 [==============================] - 0s 23us/step - loss: 54.3019 - accuracy: 0.6474\n",
      "Epoch 19/50\n",
      "1818/1818 [==============================] - 0s 25us/step - loss: 232.2435 - accuracy: 0.6595\n",
      "Epoch 20/50\n",
      "1818/1818 [==============================] - 0s 24us/step - loss: 177.5757 - accuracy: 0.6705\n",
      "Epoch 21/50\n",
      "1818/1818 [==============================] - 0s 24us/step - loss: 192.7736 - accuracy: 0.6760\n",
      "Epoch 22/50\n",
      "1818/1818 [==============================] - 0s 25us/step - loss: 154.5149 - accuracy: 0.6507\n",
      "Epoch 23/50\n",
      "1818/1818 [==============================] - 0s 25us/step - loss: 141.0289 - accuracy: 0.6634\n",
      "Epoch 24/50\n",
      "1818/1818 [==============================] - 0s 26us/step - loss: 47.2634 - accuracy: 0.6826\n",
      "Epoch 25/50\n",
      "1818/1818 [==============================] - 0s 23us/step - loss: 104.8857 - accuracy: 0.6634\n",
      "Epoch 26/50\n",
      "1818/1818 [==============================] - 0s 25us/step - loss: 99.4675 - accuracy: 0.6777\n",
      "Epoch 27/50\n",
      "1818/1818 [==============================] - 0s 25us/step - loss: 48.6571 - accuracy: 0.6958\n",
      "Epoch 28/50\n",
      "1818/1818 [==============================] - 0s 26us/step - loss: 55.6102 - accuracy: 0.6942\n",
      "Epoch 29/50\n",
      "1818/1818 [==============================] - 0s 25us/step - loss: 42.8427 - accuracy: 0.6733\n",
      "Epoch 30/50\n",
      "1818/1818 [==============================] - 0s 23us/step - loss: 4.8263 - accuracy: 0.7057\n",
      "Epoch 31/50\n",
      "1818/1818 [==============================] - 0s 24us/step - loss: 87.0302 - accuracy: 0.6964\n",
      "Epoch 32/50\n",
      "1818/1818 [==============================] - 0s 25us/step - loss: 32.3620 - accuracy: 0.6947\n",
      "Epoch 33/50\n",
      "1818/1818 [==============================] - 0s 24us/step - loss: 19.0520 - accuracy: 0.7024\n",
      "Epoch 34/50\n",
      "1818/1818 [==============================] - 0s 22us/step - loss: 26.2838 - accuracy: 0.7178\n",
      "Epoch 35/50\n",
      "1818/1818 [==============================] - 0s 25us/step - loss: 51.8295 - accuracy: 0.6936\n",
      "Epoch 36/50\n",
      "1818/1818 [==============================] - 0s 25us/step - loss: 27.2803 - accuracy: 0.6958\n",
      "Epoch 37/50\n",
      "1818/1818 [==============================] - 0s 24us/step - loss: 4.2460 - accuracy: 0.7189\n",
      "Epoch 38/50\n",
      "1818/1818 [==============================] - 0s 23us/step - loss: 3.2721 - accuracy: 0.7211\n",
      "Epoch 39/50\n",
      "1818/1818 [==============================] - 0s 25us/step - loss: 2.6682 - accuracy: 0.7508\n",
      "Epoch 40/50\n",
      "1818/1818 [==============================] - 0s 25us/step - loss: 3.2458 - accuracy: 0.7310\n",
      "Epoch 41/50\n",
      "1818/1818 [==============================] - 0s 23us/step - loss: 3.7407 - accuracy: 0.7481\n",
      "Epoch 42/50\n",
      "1818/1818 [==============================] - 0s 25us/step - loss: 3.7507 - accuracy: 0.6997\n",
      "Epoch 43/50\n",
      "1818/1818 [==============================] - 0s 26us/step - loss: 2.9727 - accuracy: 0.7387\n",
      "Epoch 44/50\n",
      "1818/1818 [==============================] - 0s 25us/step - loss: 8.3688 - accuracy: 0.7415\n",
      "Epoch 45/50\n",
      "1818/1818 [==============================] - 0s 24us/step - loss: 6.1412 - accuracy: 0.7349\n",
      "Epoch 46/50\n",
      "1818/1818 [==============================] - 0s 24us/step - loss: 5.7313 - accuracy: 0.7448\n",
      "Epoch 47/50\n",
      "1818/1818 [==============================] - 0s 25us/step - loss: 5.1298 - accuracy: 0.7376\n",
      "Epoch 48/50\n",
      "1818/1818 [==============================] - 0s 25us/step - loss: 4.4772 - accuracy: 0.7492\n",
      "Epoch 49/50\n",
      "1818/1818 [==============================] - 0s 25us/step - loss: 4.0154 - accuracy: 0.7299\n",
      "Epoch 50/50\n",
      "1818/1818 [==============================] - 0s 23us/step - loss: 3.5282 - accuracy: 0.7596\n",
      "202/202 [==============================] - 0s 223us/step\n"
     ]
    }
   ],
   "source": [
    "for i in range(kf.get_n_splits(X)):\n",
    "    test_loss, test_acc = fit_model_CV(model = network_CV(), \\\n",
    "                                   x_train = X[CV_train_indices[i]], y_train = y[CV_train_indices[i]], \\\n",
    "                                   x_test = X[CV_test_indices[i]], y_test = y[CV_test_indices[i]])\n",
    "    test_loss_CV.append(test_loss)\n",
    "    test_acc_CV.append(test_acc)"
   ]
  },
  {
   "cell_type": "code",
   "execution_count": 73,
   "metadata": {},
   "outputs": [
    {
     "name": "stdout",
     "output_type": "stream",
     "text": [
      "10\n",
      "10\n",
      "15.799785112390424\n",
      "369.6644890879434\n",
      "0.6024752557277679\n",
      "0.001455985252944636\n"
     ]
    }
   ],
   "source": [
    "print(len(test_loss_CV))\n",
    "print(len(test_acc_CV))\n",
    "\n",
    "print(np.mean(test_loss_CV))\n",
    "print(np.var(test_loss_CV))\n",
    "\n",
    "print(np.mean(test_acc_CV))\n",
    "print(np.var(test_acc_CV))"
   ]
  },
  {
   "cell_type": "code",
   "execution_count": null,
   "metadata": {},
   "outputs": [],
   "source": []
  }
 ],
 "metadata": {
  "kernelspec": {
   "display_name": "Python 3",
   "language": "python",
   "name": "python3"
  },
  "language_info": {
   "codemirror_mode": {
    "name": "ipython",
    "version": 3
   },
   "file_extension": ".py",
   "mimetype": "text/x-python",
   "name": "python",
   "nbconvert_exporter": "python",
   "pygments_lexer": "ipython3",
   "version": "3.8.5"
  }
 },
 "nbformat": 4,
 "nbformat_minor": 4
}
